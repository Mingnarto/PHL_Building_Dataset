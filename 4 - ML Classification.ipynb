{
 "cells": [
  {
   "cell_type": "code",
   "execution_count": 1,
   "metadata": {},
   "outputs": [],
   "source": [
    "import numpy as np\n",
    "import pandas as pd\n",
    "import matplotlib.pyplot as plt\n",
    "import seaborn as sns\n",
    "import warnings\n",
    "warnings.filterwarnings('ignore')"
   ]
  },
  {
   "cell_type": "code",
   "execution_count": 2,
   "metadata": {},
   "outputs": [],
   "source": [
    "pd.options.display.max_columns = 999\n",
    "sns.set_style('whitegrid')\n",
    "\n",
    "# https://metadata.phila.gov/#home/datasetdetails/5543865f20583086178c4ee5/representationdetails/55d624fdad35c7e854cb21a4/"
   ]
  },
  {
   "cell_type": "code",
   "execution_count": 3,
   "metadata": {},
   "outputs": [],
   "source": [
    "from sklearn.model_selection import train_test_split, GridSearchCV, StratifiedKFold\n",
    "from sklearn.metrics import accuracy_score, precision_score, recall_score, f1_score, confusion_matrix, classification_report\n",
    "\n",
    "from sklearn.compose import ColumnTransformer\n",
    "from sklearn.pipeline import Pipeline\n",
    "from sklearn.impute import SimpleImputer\n",
    "\n",
    "from sklearn.preprocessing import RobustScaler, OneHotEncoder\n",
    "\n",
    "from sklearn.neighbors import KNeighborsClassifier\n",
    "from sklearn.svm import SVC\n",
    "from sklearn.linear_model import LogisticRegression\n",
    "from sklearn.tree import DecisionTreeClassifier\n",
    "from sklearn.ensemble import RandomForestClassifier"
   ]
  },
  {
   "cell_type": "code",
   "execution_count": 4,
   "metadata": {},
   "outputs": [
    {
     "data": {
      "text/html": [
       "<div>\n",
       "<style scoped>\n",
       "    .dataframe tbody tr th:only-of-type {\n",
       "        vertical-align: middle;\n",
       "    }\n",
       "\n",
       "    .dataframe tbody tr th {\n",
       "        vertical-align: top;\n",
       "    }\n",
       "\n",
       "    .dataframe thead th {\n",
       "        text-align: right;\n",
       "    }\n",
       "</style>\n",
       "<table border=\"1\" class=\"dataframe\">\n",
       "  <thead>\n",
       "    <tr style=\"text-align: right;\">\n",
       "      <th></th>\n",
       "      <th>basements</th>\n",
       "      <th>building_code_description</th>\n",
       "      <th>central_air</th>\n",
       "      <th>depth</th>\n",
       "      <th>exterior_condition</th>\n",
       "      <th>fireplaces</th>\n",
       "      <th>frontage</th>\n",
       "      <th>garage_type</th>\n",
       "      <th>interior_condition</th>\n",
       "      <th>market_value</th>\n",
       "      <th>number_of_bathrooms</th>\n",
       "      <th>number_of_bedrooms</th>\n",
       "      <th>number_of_rooms</th>\n",
       "      <th>number_stories</th>\n",
       "      <th>parcel_shape</th>\n",
       "      <th>street_designation</th>\n",
       "      <th>topography</th>\n",
       "      <th>total_area</th>\n",
       "      <th>total_livable_area</th>\n",
       "      <th>type_heater</th>\n",
       "      <th>view_type</th>\n",
       "      <th>year_built</th>\n",
       "      <th>zoning</th>\n",
       "      <th>building_description</th>\n",
       "      <th>segment</th>\n",
       "    </tr>\n",
       "  </thead>\n",
       "  <tbody>\n",
       "    <tr>\n",
       "      <th>0</th>\n",
       "      <td>0</td>\n",
       "      <td>ROW B/GAR 2 STY MASONRY</td>\n",
       "      <td>Y</td>\n",
       "      <td>90.00</td>\n",
       "      <td>4.0</td>\n",
       "      <td>0.0</td>\n",
       "      <td>29.17</td>\n",
       "      <td>A</td>\n",
       "      <td>4.0</td>\n",
       "      <td>257500.0</td>\n",
       "      <td>2.0</td>\n",
       "      <td>3.0</td>\n",
       "      <td>6.0</td>\n",
       "      <td>2.0</td>\n",
       "      <td>E</td>\n",
       "      <td>ST</td>\n",
       "      <td>6</td>\n",
       "      <td>2625.30</td>\n",
       "      <td>1266.0</td>\n",
       "      <td>H</td>\n",
       "      <td>I</td>\n",
       "      <td>1960.0</td>\n",
       "      <td>1</td>\n",
       "      <td>MASONRY</td>\n",
       "      <td>2</td>\n",
       "    </tr>\n",
       "    <tr>\n",
       "      <th>1</th>\n",
       "      <td>0</td>\n",
       "      <td>ROW B/GAR 2 STY MASONRY</td>\n",
       "      <td>Y</td>\n",
       "      <td>90.00</td>\n",
       "      <td>4.0</td>\n",
       "      <td>0.0</td>\n",
       "      <td>18.03</td>\n",
       "      <td>A</td>\n",
       "      <td>4.0</td>\n",
       "      <td>249400.0</td>\n",
       "      <td>2.0</td>\n",
       "      <td>3.0</td>\n",
       "      <td>6.0</td>\n",
       "      <td>2.0</td>\n",
       "      <td>E</td>\n",
       "      <td>ST</td>\n",
       "      <td>6</td>\n",
       "      <td>1622.70</td>\n",
       "      <td>1266.0</td>\n",
       "      <td>A</td>\n",
       "      <td>I</td>\n",
       "      <td>1960.0</td>\n",
       "      <td>1</td>\n",
       "      <td>MASONRY</td>\n",
       "      <td>2</td>\n",
       "    </tr>\n",
       "    <tr>\n",
       "      <th>2</th>\n",
       "      <td>0</td>\n",
       "      <td>ROW B/GAR 2 STY MASONRY</td>\n",
       "      <td>Y</td>\n",
       "      <td>90.00</td>\n",
       "      <td>4.0</td>\n",
       "      <td>0.0</td>\n",
       "      <td>18.05</td>\n",
       "      <td>A</td>\n",
       "      <td>4.0</td>\n",
       "      <td>249500.0</td>\n",
       "      <td>2.0</td>\n",
       "      <td>3.0</td>\n",
       "      <td>6.0</td>\n",
       "      <td>2.0</td>\n",
       "      <td>E</td>\n",
       "      <td>ST</td>\n",
       "      <td>6</td>\n",
       "      <td>1624.50</td>\n",
       "      <td>1266.0</td>\n",
       "      <td>A</td>\n",
       "      <td>I</td>\n",
       "      <td>1960.0</td>\n",
       "      <td>1</td>\n",
       "      <td>MASONRY</td>\n",
       "      <td>2</td>\n",
       "    </tr>\n",
       "    <tr>\n",
       "      <th>3</th>\n",
       "      <td>0</td>\n",
       "      <td>ROW B/GAR 2 STY MASONRY</td>\n",
       "      <td>Y</td>\n",
       "      <td>90.00</td>\n",
       "      <td>4.0</td>\n",
       "      <td>0.0</td>\n",
       "      <td>18.08</td>\n",
       "      <td>A</td>\n",
       "      <td>4.0</td>\n",
       "      <td>249500.0</td>\n",
       "      <td>2.0</td>\n",
       "      <td>3.0</td>\n",
       "      <td>6.0</td>\n",
       "      <td>2.0</td>\n",
       "      <td>E</td>\n",
       "      <td>ST</td>\n",
       "      <td>6</td>\n",
       "      <td>1627.20</td>\n",
       "      <td>1266.0</td>\n",
       "      <td>H</td>\n",
       "      <td>I</td>\n",
       "      <td>1960.0</td>\n",
       "      <td>1</td>\n",
       "      <td>MASONRY</td>\n",
       "      <td>2</td>\n",
       "    </tr>\n",
       "    <tr>\n",
       "      <th>4</th>\n",
       "      <td>0</td>\n",
       "      <td>ROW B/GAR 2 STY MASONRY</td>\n",
       "      <td>Y</td>\n",
       "      <td>90.00</td>\n",
       "      <td>4.0</td>\n",
       "      <td>0.0</td>\n",
       "      <td>18.71</td>\n",
       "      <td>A</td>\n",
       "      <td>4.0</td>\n",
       "      <td>253800.0</td>\n",
       "      <td>2.0</td>\n",
       "      <td>3.0</td>\n",
       "      <td>6.0</td>\n",
       "      <td>2.0</td>\n",
       "      <td>E</td>\n",
       "      <td>ST</td>\n",
       "      <td>6</td>\n",
       "      <td>1683.90</td>\n",
       "      <td>1310.0</td>\n",
       "      <td>H</td>\n",
       "      <td>I</td>\n",
       "      <td>1960.0</td>\n",
       "      <td>1</td>\n",
       "      <td>MASONRY</td>\n",
       "      <td>2</td>\n",
       "    </tr>\n",
       "    <tr>\n",
       "      <th>...</th>\n",
       "      <td>...</td>\n",
       "      <td>...</td>\n",
       "      <td>...</td>\n",
       "      <td>...</td>\n",
       "      <td>...</td>\n",
       "      <td>...</td>\n",
       "      <td>...</td>\n",
       "      <td>...</td>\n",
       "      <td>...</td>\n",
       "      <td>...</td>\n",
       "      <td>...</td>\n",
       "      <td>...</td>\n",
       "      <td>...</td>\n",
       "      <td>...</td>\n",
       "      <td>...</td>\n",
       "      <td>...</td>\n",
       "      <td>...</td>\n",
       "      <td>...</td>\n",
       "      <td>...</td>\n",
       "      <td>...</td>\n",
       "      <td>...</td>\n",
       "      <td>...</td>\n",
       "      <td>...</td>\n",
       "      <td>...</td>\n",
       "      <td>...</td>\n",
       "    </tr>\n",
       "    <tr>\n",
       "      <th>44479</th>\n",
       "      <td>D</td>\n",
       "      <td>ROW 3 STY MASONRY</td>\n",
       "      <td>N</td>\n",
       "      <td>100.00</td>\n",
       "      <td>4.0</td>\n",
       "      <td>0.0</td>\n",
       "      <td>21.87</td>\n",
       "      <td>0</td>\n",
       "      <td>4.0</td>\n",
       "      <td>117500.0</td>\n",
       "      <td>0.0</td>\n",
       "      <td>3.0</td>\n",
       "      <td>6.0</td>\n",
       "      <td>3.0</td>\n",
       "      <td>A</td>\n",
       "      <td>ST</td>\n",
       "      <td>6</td>\n",
       "      <td>1651.00</td>\n",
       "      <td>2907.0</td>\n",
       "      <td>H</td>\n",
       "      <td>I</td>\n",
       "      <td>1929.0</td>\n",
       "      <td>1</td>\n",
       "      <td>MASONRY</td>\n",
       "      <td>1</td>\n",
       "    </tr>\n",
       "    <tr>\n",
       "      <th>44480</th>\n",
       "      <td>D</td>\n",
       "      <td>ROW 2 STY MASONRY</td>\n",
       "      <td>Y</td>\n",
       "      <td>102.19</td>\n",
       "      <td>3.0</td>\n",
       "      <td>0.0</td>\n",
       "      <td>18.24</td>\n",
       "      <td>0</td>\n",
       "      <td>3.0</td>\n",
       "      <td>70800.0</td>\n",
       "      <td>2.0</td>\n",
       "      <td>3.0</td>\n",
       "      <td>9.0</td>\n",
       "      <td>3.0</td>\n",
       "      <td>A</td>\n",
       "      <td>ST</td>\n",
       "      <td>6</td>\n",
       "      <td>1811.00</td>\n",
       "      <td>2026.0</td>\n",
       "      <td>A</td>\n",
       "      <td>I</td>\n",
       "      <td>2005.0</td>\n",
       "      <td>1</td>\n",
       "      <td>MASONRY</td>\n",
       "      <td>1</td>\n",
       "    </tr>\n",
       "    <tr>\n",
       "      <th>44481</th>\n",
       "      <td>D</td>\n",
       "      <td>ROW 3 STY MASONRY</td>\n",
       "      <td>Y</td>\n",
       "      <td>103.26</td>\n",
       "      <td>3.0</td>\n",
       "      <td>0.0</td>\n",
       "      <td>16.00</td>\n",
       "      <td>0</td>\n",
       "      <td>3.0</td>\n",
       "      <td>23600.0</td>\n",
       "      <td>1.0</td>\n",
       "      <td>3.0</td>\n",
       "      <td>6.0</td>\n",
       "      <td>3.0</td>\n",
       "      <td>A</td>\n",
       "      <td>ST</td>\n",
       "      <td>6</td>\n",
       "      <td>1604.00</td>\n",
       "      <td>2082.0</td>\n",
       "      <td>A</td>\n",
       "      <td>I</td>\n",
       "      <td>2005.0</td>\n",
       "      <td>1</td>\n",
       "      <td>MASONRY</td>\n",
       "      <td>1</td>\n",
       "    </tr>\n",
       "    <tr>\n",
       "      <th>44482</th>\n",
       "      <td>D</td>\n",
       "      <td>ROW 3 STY MASONRY</td>\n",
       "      <td>Y</td>\n",
       "      <td>90.00</td>\n",
       "      <td>3.0</td>\n",
       "      <td>0.0</td>\n",
       "      <td>16.00</td>\n",
       "      <td>0</td>\n",
       "      <td>3.0</td>\n",
       "      <td>23600.0</td>\n",
       "      <td>1.0</td>\n",
       "      <td>3.0</td>\n",
       "      <td>6.0</td>\n",
       "      <td>3.0</td>\n",
       "      <td>E</td>\n",
       "      <td>ST</td>\n",
       "      <td>6</td>\n",
       "      <td>1440.00</td>\n",
       "      <td>1387.0</td>\n",
       "      <td>A</td>\n",
       "      <td>I</td>\n",
       "      <td>2005.0</td>\n",
       "      <td>1</td>\n",
       "      <td>MASONRY</td>\n",
       "      <td>1</td>\n",
       "    </tr>\n",
       "    <tr>\n",
       "      <th>44483</th>\n",
       "      <td>A</td>\n",
       "      <td>RES CONDO 2 STY MAS+OTH</td>\n",
       "      <td>Y</td>\n",
       "      <td>215.42</td>\n",
       "      <td>3.0</td>\n",
       "      <td>0.0</td>\n",
       "      <td>39.26</td>\n",
       "      <td>B</td>\n",
       "      <td>3.0</td>\n",
       "      <td>600000.0</td>\n",
       "      <td>3.0</td>\n",
       "      <td>4.0</td>\n",
       "      <td>8.0</td>\n",
       "      <td>2.0</td>\n",
       "      <td>A</td>\n",
       "      <td>AVE</td>\n",
       "      <td>6</td>\n",
       "      <td>8457.99</td>\n",
       "      <td>2851.0</td>\n",
       "      <td>A</td>\n",
       "      <td>I</td>\n",
       "      <td>2006.0</td>\n",
       "      <td>3</td>\n",
       "      <td>MASONRY+OTHER</td>\n",
       "      <td>4</td>\n",
       "    </tr>\n",
       "  </tbody>\n",
       "</table>\n",
       "<p>44484 rows × 25 columns</p>\n",
       "</div>"
      ],
      "text/plain": [
       "      basements building_code_description central_air   depth  \\\n",
       "0             0   ROW B/GAR 2 STY MASONRY           Y   90.00   \n",
       "1             0   ROW B/GAR 2 STY MASONRY           Y   90.00   \n",
       "2             0   ROW B/GAR 2 STY MASONRY           Y   90.00   \n",
       "3             0   ROW B/GAR 2 STY MASONRY           Y   90.00   \n",
       "4             0   ROW B/GAR 2 STY MASONRY           Y   90.00   \n",
       "...         ...                       ...         ...     ...   \n",
       "44479         D         ROW 3 STY MASONRY           N  100.00   \n",
       "44480         D         ROW 2 STY MASONRY           Y  102.19   \n",
       "44481         D         ROW 3 STY MASONRY           Y  103.26   \n",
       "44482         D         ROW 3 STY MASONRY           Y   90.00   \n",
       "44483         A   RES CONDO 2 STY MAS+OTH           Y  215.42   \n",
       "\n",
       "       exterior_condition  fireplaces  frontage garage_type  \\\n",
       "0                     4.0         0.0     29.17           A   \n",
       "1                     4.0         0.0     18.03           A   \n",
       "2                     4.0         0.0     18.05           A   \n",
       "3                     4.0         0.0     18.08           A   \n",
       "4                     4.0         0.0     18.71           A   \n",
       "...                   ...         ...       ...         ...   \n",
       "44479                 4.0         0.0     21.87           0   \n",
       "44480                 3.0         0.0     18.24           0   \n",
       "44481                 3.0         0.0     16.00           0   \n",
       "44482                 3.0         0.0     16.00           0   \n",
       "44483                 3.0         0.0     39.26           B   \n",
       "\n",
       "       interior_condition  market_value  number_of_bathrooms  \\\n",
       "0                     4.0      257500.0                  2.0   \n",
       "1                     4.0      249400.0                  2.0   \n",
       "2                     4.0      249500.0                  2.0   \n",
       "3                     4.0      249500.0                  2.0   \n",
       "4                     4.0      253800.0                  2.0   \n",
       "...                   ...           ...                  ...   \n",
       "44479                 4.0      117500.0                  0.0   \n",
       "44480                 3.0       70800.0                  2.0   \n",
       "44481                 3.0       23600.0                  1.0   \n",
       "44482                 3.0       23600.0                  1.0   \n",
       "44483                 3.0      600000.0                  3.0   \n",
       "\n",
       "       number_of_bedrooms  number_of_rooms  number_stories parcel_shape  \\\n",
       "0                     3.0              6.0             2.0            E   \n",
       "1                     3.0              6.0             2.0            E   \n",
       "2                     3.0              6.0             2.0            E   \n",
       "3                     3.0              6.0             2.0            E   \n",
       "4                     3.0              6.0             2.0            E   \n",
       "...                   ...              ...             ...          ...   \n",
       "44479                 3.0              6.0             3.0            A   \n",
       "44480                 3.0              9.0             3.0            A   \n",
       "44481                 3.0              6.0             3.0            A   \n",
       "44482                 3.0              6.0             3.0            E   \n",
       "44483                 4.0              8.0             2.0            A   \n",
       "\n",
       "      street_designation  topography  total_area  total_livable_area  \\\n",
       "0                    ST            6     2625.30              1266.0   \n",
       "1                    ST            6     1622.70              1266.0   \n",
       "2                    ST            6     1624.50              1266.0   \n",
       "3                    ST            6     1627.20              1266.0   \n",
       "4                    ST            6     1683.90              1310.0   \n",
       "...                  ...         ...         ...                 ...   \n",
       "44479                ST            6     1651.00              2907.0   \n",
       "44480                ST            6     1811.00              2026.0   \n",
       "44481                ST            6     1604.00              2082.0   \n",
       "44482                ST            6     1440.00              1387.0   \n",
       "44483                AVE           6     8457.99              2851.0   \n",
       "\n",
       "      type_heater view_type  year_built  zoning building_description  segment  \n",
       "0               H         I      1960.0       1              MASONRY        2  \n",
       "1               A         I      1960.0       1              MASONRY        2  \n",
       "2               A         I      1960.0       1              MASONRY        2  \n",
       "3               H         I      1960.0       1              MASONRY        2  \n",
       "4               H         I      1960.0       1              MASONRY        2  \n",
       "...           ...       ...         ...     ...                  ...      ...  \n",
       "44479           H         I      1929.0       1              MASONRY        1  \n",
       "44480           A         I      2005.0       1              MASONRY        1  \n",
       "44481           A         I      2005.0       1              MASONRY        1  \n",
       "44482           A         I      2005.0       1              MASONRY        1  \n",
       "44483           A         I      2006.0       3        MASONRY+OTHER        4  \n",
       "\n",
       "[44484 rows x 25 columns]"
      ]
     },
     "execution_count": 4,
     "metadata": {},
     "output_type": "execute_result"
    }
   ],
   "source": [
    "df = pd.read_csv('PHL_Building_Dataset_ML_Classification.csv')\n",
    "df = df.drop(columns=['Unnamed: 0', 'basements_bin'])\n",
    "df"
   ]
  },
  {
   "cell_type": "code",
   "execution_count": 6,
   "metadata": {},
   "outputs": [],
   "source": [
    "# Rename Segment\n",
    "df['segment'] = df['segment'].replace({1:'Bottom', 2:'Lower Middle', 3:'Middle', 4:'Upper Middle', 5:'Top'})"
   ]
  },
  {
   "cell_type": "markdown",
   "metadata": {},
   "source": [
    "# Splitting Data"
   ]
  },
  {
   "cell_type": "code",
   "execution_count": 7,
   "metadata": {},
   "outputs": [],
   "source": [
    "X = df.drop(columns=['building_code_description', 'segment'])\n",
    "y = df['segment']"
   ]
  },
  {
   "cell_type": "code",
   "execution_count": 8,
   "metadata": {},
   "outputs": [],
   "source": [
    "X_train, X_test, y_train, y_test = train_test_split(X, y, stratify = y, test_size = 0.2, random_state = 42)"
   ]
  },
  {
   "cell_type": "markdown",
   "metadata": {},
   "source": [
    "# Evaluation Matrix"
   ]
  },
  {
   "cell_type": "code",
   "execution_count": 9,
   "metadata": {},
   "outputs": [],
   "source": [
    "# Evaluation Matrix Classification\n",
    "def Eva_Matrix1(Model, X_train, y_train, X_test, y_test, Name):\n",
    "    y_pred_train = Model.predict(X_train)\n",
    "    acc_train = accuracy_score(y_train, y_pred_train)\n",
    "    rec_train = recall_score(y_train, y_pred_train)\n",
    "    prec_train = precision_score(y_train, y_pred_train)\n",
    "    f1_train = f1_score(y_train, y_pred_train)\n",
    "    y_pred_test = Model.predict(X_test)\n",
    "    acc_test = accuracy_score(y_test, y_pred_test)\n",
    "    rec_test = recall_score(y_test, y_pred_test)\n",
    "    prec_test = precision_score(y_test, y_pred_test)\n",
    "    f1_test = f1_score(y_train, y_pred_train)\n",
    "    data = {\n",
    "        f\"Training {Name}\" : [acc_train, rec_train, prec_train, f1_train],\n",
    "        f\"Test {Name}\" : [acc_test, rec_test, prec_test, f1_test]\n",
    "    }\n",
    "    df = pd.DataFrame(data=data, index=['Accuracy', 'Recall', 'Precision', 'F1'])\n",
    "    return df"
   ]
  },
  {
   "cell_type": "markdown",
   "metadata": {},
   "source": [
    "# Pipeline"
   ]
  },
  {
   "cell_type": "code",
   "execution_count": 10,
   "metadata": {},
   "outputs": [],
   "source": [
    "num_columns = ['fireplaces', 'market_value', 'number_of_rooms', 'total_area', \n",
    "               'total_livable_area']\n",
    "\n",
    "cat_columns = ['basements', 'central_air', 'exterior_condition', 'garage_type',\n",
    "               'interior_condition', 'parcel_shape', 'topography',\n",
    "               'type_heater', 'view_type', 'building_description']\n",
    "\n",
    "numeric_pipeline = Pipeline([\n",
    "    ('imputer', SimpleImputer(strategy='mean')),\n",
    "    #('scaler', RobustScaler()),\n",
    "    #('poly', PolynomialFeatures(degree=3, include_bias=False)),\n",
    "    #('power', PowerTransformer(method='yeo-johnson'))\n",
    "])\n",
    "\n",
    "categoric_pipeline = Pipeline([\n",
    "    ('imputer', SimpleImputer(strategy='most_frequent')),\n",
    "    ('encoder', OneHotEncoder())\n",
    "])\n",
    "\n",
    "preprocessor = ColumnTransformer([\n",
    "    ('numeric', numeric_pipeline, num_columns),\n",
    "    ('categoric', categoric_pipeline, cat_columns)\n",
    "])\n",
    "\n",
    "pipeSVM = Pipeline([\n",
    "    (\"prep\", preprocessor),\n",
    "    (\"algo\", SVC(max_iter=400, probability=True))\n",
    "])\n",
    "\n",
    "pipeLR = Pipeline([\n",
    "    (\"prep\", preprocessor),\n",
    "    (\"algo\", LogisticRegression())\n",
    "])\n",
    "\n",
    "pipeKNN = Pipeline([\n",
    "    (\"prep\", preprocessor),\n",
    "    (\"algo\", KNeighborsClassifier())\n",
    "])\n",
    "               \n",
    "pipeDT = Pipeline([\n",
    "    (\"prep\", preprocessor),\n",
    "    (\"algo\", DecisionTreeClassifier())\n",
    "])\n",
    "            \n",
    "pipeRF = Pipeline([\n",
    "    (\"prep\", preprocessor),\n",
    "    (\"algo\", RandomForestClassifier())\n",
    "])"
   ]
  },
  {
   "cell_type": "markdown",
   "metadata": {},
   "source": [
    "# Base Model (KNN)"
   ]
  },
  {
   "cell_type": "code",
   "execution_count": 10,
   "metadata": {},
   "outputs": [
    {
     "data": {
      "text/plain": [
       "Pipeline(steps=[('prep',\n",
       "                 ColumnTransformer(transformers=[('numeric',\n",
       "                                                  Pipeline(steps=[('imputer',\n",
       "                                                                   SimpleImputer())]),\n",
       "                                                  ['fireplaces', 'market_value',\n",
       "                                                   'number_of_rooms',\n",
       "                                                   'total_area',\n",
       "                                                   'total_livable_area']),\n",
       "                                                 ('categoric',\n",
       "                                                  Pipeline(steps=[('imputer',\n",
       "                                                                   SimpleImputer(strategy='most_frequent')),\n",
       "                                                                  ('encoder',\n",
       "                                                                   OneHotEncoder())]),\n",
       "                                                  ['basements', 'central_air',\n",
       "                                                   'exterior_condition',\n",
       "                                                   'garage_type',\n",
       "                                                   'interior_condition',\n",
       "                                                   'parcel_shape', 'topography',\n",
       "                                                   'type_heater', 'view_type',\n",
       "                                                   'building_description'])])),\n",
       "                ('algo', KNeighborsClassifier())])"
      ]
     },
     "execution_count": 10,
     "metadata": {},
     "output_type": "execute_result"
    }
   ],
   "source": [
    "pipeKNN.fit(X_train, y_train)"
   ]
  },
  {
   "cell_type": "code",
   "execution_count": 11,
   "metadata": {},
   "outputs": [],
   "source": [
    "y_KNN_train = pipeKNN.predict(X_train)"
   ]
  },
  {
   "cell_type": "code",
   "execution_count": 12,
   "metadata": {},
   "outputs": [],
   "source": [
    "y_KNN_test = pipeKNN.predict(X_test)"
   ]
  },
  {
   "cell_type": "code",
   "execution_count": 13,
   "metadata": {},
   "outputs": [
    {
     "data": {
      "text/plain": [
       "0.9995784977660381"
      ]
     },
     "execution_count": 13,
     "metadata": {},
     "output_type": "execute_result"
    }
   ],
   "source": [
    "accuracy_score(y_train, y_KNN_train)"
   ]
  },
  {
   "cell_type": "code",
   "execution_count": 14,
   "metadata": {},
   "outputs": [
    {
     "data": {
      "text/plain": [
       "0.9993256153759694"
      ]
     },
     "execution_count": 14,
     "metadata": {},
     "output_type": "execute_result"
    }
   ],
   "source": [
    "accuracy_score(y_test, y_KNN_test)"
   ]
  },
  {
   "cell_type": "code",
   "execution_count": 15,
   "metadata": {},
   "outputs": [
    {
     "name": "stdout",
     "output_type": "stream",
     "text": [
      "              precision    recall  f1-score   support\n",
      "\n",
      "      Bottom       1.00      1.00      1.00      4788\n",
      "Lower Middle       1.00      1.00      1.00      3089\n",
      "      Middle       1.00      1.00      1.00       826\n",
      "         Top       1.00      1.00      1.00        42\n",
      "Upper Middle       1.00      0.98      0.99       152\n",
      "\n",
      "    accuracy                           1.00      8897\n",
      "   macro avg       1.00      1.00      1.00      8897\n",
      "weighted avg       1.00      1.00      1.00      8897\n",
      "\n"
     ]
    }
   ],
   "source": [
    "print(classification_report(y_test, y_KNN_test))"
   ]
  },
  {
   "cell_type": "markdown",
   "metadata": {},
   "source": [
    "# Base Model Logistic Regression"
   ]
  },
  {
   "cell_type": "code",
   "execution_count": 16,
   "metadata": {},
   "outputs": [
    {
     "data": {
      "text/plain": [
       "Pipeline(steps=[('prep',\n",
       "                 ColumnTransformer(transformers=[('numeric',\n",
       "                                                  Pipeline(steps=[('imputer',\n",
       "                                                                   SimpleImputer())]),\n",
       "                                                  ['fireplaces', 'market_value',\n",
       "                                                   'number_of_rooms',\n",
       "                                                   'total_area',\n",
       "                                                   'total_livable_area']),\n",
       "                                                 ('categoric',\n",
       "                                                  Pipeline(steps=[('imputer',\n",
       "                                                                   SimpleImputer(strategy='most_frequent')),\n",
       "                                                                  ('encoder',\n",
       "                                                                   OneHotEncoder())]),\n",
       "                                                  ['basements', 'central_air',\n",
       "                                                   'exterior_condition',\n",
       "                                                   'garage_type',\n",
       "                                                   'interior_condition',\n",
       "                                                   'parcel_shape', 'topography',\n",
       "                                                   'type_heater', 'view_type',\n",
       "                                                   'building_description'])])),\n",
       "                ('algo', LogisticRegression())])"
      ]
     },
     "execution_count": 16,
     "metadata": {},
     "output_type": "execute_result"
    }
   ],
   "source": [
    "pipeLR.fit(X_train, y_train)"
   ]
  },
  {
   "cell_type": "code",
   "execution_count": 17,
   "metadata": {},
   "outputs": [],
   "source": [
    "y_LR_train = pipeLR.predict(X_train)"
   ]
  },
  {
   "cell_type": "code",
   "execution_count": 18,
   "metadata": {},
   "outputs": [],
   "source": [
    "y_LR_test = pipeLR.predict(X_test)"
   ]
  },
  {
   "cell_type": "code",
   "execution_count": 19,
   "metadata": {},
   "outputs": [
    {
     "data": {
      "text/plain": [
       "0.7611487340882906"
      ]
     },
     "execution_count": 19,
     "metadata": {},
     "output_type": "execute_result"
    }
   ],
   "source": [
    "accuracy_score(y_train, y_LR_train)"
   ]
  },
  {
   "cell_type": "code",
   "execution_count": 20,
   "metadata": {},
   "outputs": [
    {
     "data": {
      "text/plain": [
       "0.7591322917837473"
      ]
     },
     "execution_count": 20,
     "metadata": {},
     "output_type": "execute_result"
    }
   ],
   "source": [
    "accuracy_score(y_test, y_LR_test)"
   ]
  },
  {
   "cell_type": "code",
   "execution_count": 21,
   "metadata": {},
   "outputs": [
    {
     "name": "stdout",
     "output_type": "stream",
     "text": [
      "              precision    recall  f1-score   support\n",
      "\n",
      "      Bottom       0.86      0.90      0.88      4788\n",
      "Lower Middle       0.65      0.77      0.71      3089\n",
      "      Middle       0.36      0.08      0.13       826\n",
      "         Top       0.09      0.07      0.08        42\n",
      "Upper Middle       0.32      0.05      0.08       152\n",
      "\n",
      "    accuracy                           0.76      8897\n",
      "   macro avg       0.46      0.37      0.37      8897\n",
      "weighted avg       0.73      0.76      0.73      8897\n",
      "\n"
     ]
    }
   ],
   "source": [
    "print(classification_report(y_test, y_LR_test))"
   ]
  },
  {
   "cell_type": "markdown",
   "metadata": {},
   "source": [
    "# Base Model SVM"
   ]
  },
  {
   "cell_type": "code",
   "execution_count": 22,
   "metadata": {},
   "outputs": [
    {
     "data": {
      "text/plain": [
       "Pipeline(steps=[('prep',\n",
       "                 ColumnTransformer(transformers=[('numeric',\n",
       "                                                  Pipeline(steps=[('imputer',\n",
       "                                                                   SimpleImputer())]),\n",
       "                                                  ['fireplaces', 'market_value',\n",
       "                                                   'number_of_rooms',\n",
       "                                                   'total_area',\n",
       "                                                   'total_livable_area']),\n",
       "                                                 ('categoric',\n",
       "                                                  Pipeline(steps=[('imputer',\n",
       "                                                                   SimpleImputer(strategy='most_frequent')),\n",
       "                                                                  ('encoder',\n",
       "                                                                   OneHotEncoder())]),\n",
       "                                                  ['basements', 'central_air',\n",
       "                                                   'exterior_condition',\n",
       "                                                   'garage_type',\n",
       "                                                   'interior_condition',\n",
       "                                                   'parcel_shape', 'topography',\n",
       "                                                   'type_heater', 'view_type',\n",
       "                                                   'building_description'])])),\n",
       "                ('algo', SVC(max_iter=400, probability=True))])"
      ]
     },
     "execution_count": 22,
     "metadata": {},
     "output_type": "execute_result"
    }
   ],
   "source": [
    "pipeSVM.fit(X_train, y_train)"
   ]
  },
  {
   "cell_type": "code",
   "execution_count": 23,
   "metadata": {},
   "outputs": [],
   "source": [
    "y_SVM_train = pipeSVM.predict(X_train)"
   ]
  },
  {
   "cell_type": "code",
   "execution_count": 24,
   "metadata": {},
   "outputs": [],
   "source": [
    "y_SVM_test = pipeSVM.predict(X_test)"
   ]
  },
  {
   "cell_type": "code",
   "execution_count": 25,
   "metadata": {},
   "outputs": [
    {
     "data": {
      "text/plain": [
       "0.9610812937308568"
      ]
     },
     "execution_count": 25,
     "metadata": {},
     "output_type": "execute_result"
    }
   ],
   "source": [
    "accuracy_score(y_train, y_SVM_train)"
   ]
  },
  {
   "cell_type": "code",
   "execution_count": 26,
   "metadata": {},
   "outputs": [
    {
     "data": {
      "text/plain": [
       "0.9598741148701809"
      ]
     },
     "execution_count": 26,
     "metadata": {},
     "output_type": "execute_result"
    }
   ],
   "source": [
    "accuracy_score(y_test, y_SVM_test)"
   ]
  },
  {
   "cell_type": "code",
   "execution_count": 27,
   "metadata": {},
   "outputs": [
    {
     "name": "stdout",
     "output_type": "stream",
     "text": [
      "              precision    recall  f1-score   support\n",
      "\n",
      "      Bottom       1.00      0.93      0.96      4788\n",
      "Lower Middle       0.90      1.00      0.95      3089\n",
      "      Middle       0.99      1.00      1.00       826\n",
      "         Top       1.00      1.00      1.00        42\n",
      "Upper Middle       1.00      0.97      0.98       152\n",
      "\n",
      "    accuracy                           0.96      8897\n",
      "   macro avg       0.98      0.98      0.98      8897\n",
      "weighted avg       0.96      0.96      0.96      8897\n",
      "\n"
     ]
    }
   ],
   "source": [
    "print(classification_report(y_test, y_SVM_test))"
   ]
  },
  {
   "cell_type": "markdown",
   "metadata": {},
   "source": [
    "# Base Model (DecisionTreeClassifier)"
   ]
  },
  {
   "cell_type": "code",
   "execution_count": 28,
   "metadata": {},
   "outputs": [
    {
     "data": {
      "text/plain": [
       "Pipeline(steps=[('prep',\n",
       "                 ColumnTransformer(transformers=[('numeric',\n",
       "                                                  Pipeline(steps=[('imputer',\n",
       "                                                                   SimpleImputer())]),\n",
       "                                                  ['fireplaces', 'market_value',\n",
       "                                                   'number_of_rooms',\n",
       "                                                   'total_area',\n",
       "                                                   'total_livable_area']),\n",
       "                                                 ('categoric',\n",
       "                                                  Pipeline(steps=[('imputer',\n",
       "                                                                   SimpleImputer(strategy='most_frequent')),\n",
       "                                                                  ('encoder',\n",
       "                                                                   OneHotEncoder())]),\n",
       "                                                  ['basements', 'central_air',\n",
       "                                                   'exterior_condition',\n",
       "                                                   'garage_type',\n",
       "                                                   'interior_condition',\n",
       "                                                   'parcel_shape', 'topography',\n",
       "                                                   'type_heater', 'view_type',\n",
       "                                                   'building_description'])])),\n",
       "                ('algo', DecisionTreeClassifier())])"
      ]
     },
     "execution_count": 28,
     "metadata": {},
     "output_type": "execute_result"
    }
   ],
   "source": [
    "pipeDT.fit(X_train, y_train)"
   ]
  },
  {
   "cell_type": "code",
   "execution_count": 29,
   "metadata": {},
   "outputs": [],
   "source": [
    "y_DT_train = pipeDT.predict(X_train)"
   ]
  },
  {
   "cell_type": "code",
   "execution_count": 30,
   "metadata": {},
   "outputs": [],
   "source": [
    "y_DT_test = pipeDT.predict(X_test)"
   ]
  },
  {
   "cell_type": "code",
   "execution_count": 31,
   "metadata": {},
   "outputs": [
    {
     "data": {
      "text/plain": [
       "1.0"
      ]
     },
     "execution_count": 31,
     "metadata": {},
     "output_type": "execute_result"
    }
   ],
   "source": [
    "accuracy_score(y_train, y_DT_train)"
   ]
  },
  {
   "cell_type": "code",
   "execution_count": 32,
   "metadata": {},
   "outputs": [
    {
     "data": {
      "text/plain": [
       "0.9998876025626616"
      ]
     },
     "execution_count": 32,
     "metadata": {},
     "output_type": "execute_result"
    }
   ],
   "source": [
    "accuracy_score(y_test, y_DT_test)"
   ]
  },
  {
   "cell_type": "code",
   "execution_count": 33,
   "metadata": {},
   "outputs": [
    {
     "name": "stdout",
     "output_type": "stream",
     "text": [
      "              precision    recall  f1-score   support\n",
      "\n",
      "      Bottom       1.00      1.00      1.00      4788\n",
      "Lower Middle       1.00      1.00      1.00      3089\n",
      "      Middle       1.00      1.00      1.00       826\n",
      "         Top       1.00      1.00      1.00        42\n",
      "Upper Middle       1.00      1.00      1.00       152\n",
      "\n",
      "    accuracy                           1.00      8897\n",
      "   macro avg       1.00      1.00      1.00      8897\n",
      "weighted avg       1.00      1.00      1.00      8897\n",
      "\n"
     ]
    }
   ],
   "source": [
    "print(classification_report(y_test, y_DT_test))"
   ]
  },
  {
   "cell_type": "markdown",
   "metadata": {},
   "source": [
    "# Base Model (Random Forest Classifier)"
   ]
  },
  {
   "cell_type": "code",
   "execution_count": 34,
   "metadata": {},
   "outputs": [
    {
     "data": {
      "text/plain": [
       "Pipeline(steps=[('prep',\n",
       "                 ColumnTransformer(transformers=[('numeric',\n",
       "                                                  Pipeline(steps=[('imputer',\n",
       "                                                                   SimpleImputer())]),\n",
       "                                                  ['fireplaces', 'market_value',\n",
       "                                                   'number_of_rooms',\n",
       "                                                   'total_area',\n",
       "                                                   'total_livable_area']),\n",
       "                                                 ('categoric',\n",
       "                                                  Pipeline(steps=[('imputer',\n",
       "                                                                   SimpleImputer(strategy='most_frequent')),\n",
       "                                                                  ('encoder',\n",
       "                                                                   OneHotEncoder())]),\n",
       "                                                  ['basements', 'central_air',\n",
       "                                                   'exterior_condition',\n",
       "                                                   'garage_type',\n",
       "                                                   'interior_condition',\n",
       "                                                   'parcel_shape', 'topography',\n",
       "                                                   'type_heater', 'view_type',\n",
       "                                                   'building_description'])])),\n",
       "                ('algo', RandomForestClassifier())])"
      ]
     },
     "execution_count": 34,
     "metadata": {},
     "output_type": "execute_result"
    }
   ],
   "source": [
    "pipeRF.fit(X_train, y_train)"
   ]
  },
  {
   "cell_type": "code",
   "execution_count": 35,
   "metadata": {},
   "outputs": [],
   "source": [
    "y_RF_train = pipeRF.predict(X_train)"
   ]
  },
  {
   "cell_type": "code",
   "execution_count": 36,
   "metadata": {},
   "outputs": [],
   "source": [
    "y_RF_test = pipeRF.predict(X_test)"
   ]
  },
  {
   "cell_type": "code",
   "execution_count": 37,
   "metadata": {},
   "outputs": [
    {
     "data": {
      "text/plain": [
       "1.0"
      ]
     },
     "execution_count": 37,
     "metadata": {},
     "output_type": "execute_result"
    }
   ],
   "source": [
    "accuracy_score(y_train, y_RF_train)"
   ]
  },
  {
   "cell_type": "code",
   "execution_count": 38,
   "metadata": {},
   "outputs": [
    {
     "data": {
      "text/plain": [
       "0.9956164999438013"
      ]
     },
     "execution_count": 38,
     "metadata": {},
     "output_type": "execute_result"
    }
   ],
   "source": [
    "accuracy_score(y_test, y_RF_test)"
   ]
  },
  {
   "cell_type": "code",
   "execution_count": 39,
   "metadata": {},
   "outputs": [
    {
     "name": "stdout",
     "output_type": "stream",
     "text": [
      "              precision    recall  f1-score   support\n",
      "\n",
      "      Bottom       1.00      1.00      1.00      4788\n",
      "Lower Middle       1.00      1.00      1.00      3089\n",
      "      Middle       0.97      1.00      0.98       826\n",
      "         Top       0.94      0.81      0.87        42\n",
      "Upper Middle       0.93      0.82      0.87       152\n",
      "\n",
      "    accuracy                           1.00      8897\n",
      "   macro avg       0.97      0.92      0.94      8897\n",
      "weighted avg       1.00      1.00      1.00      8897\n",
      "\n"
     ]
    }
   ],
   "source": [
    "print(classification_report(y_test, y_RF_test))"
   ]
  },
  {
   "cell_type": "markdown",
   "metadata": {},
   "source": [
    "# ================================================="
   ]
  },
  {
   "cell_type": "markdown",
   "metadata": {},
   "source": [
    "# Hyper Parameter Tuning"
   ]
  },
  {
   "cell_type": "markdown",
   "metadata": {},
   "source": [
    "## Logistic Regression"
   ]
  },
  {
   "cell_type": "code",
   "execution_count": 41,
   "metadata": {},
   "outputs": [
    {
     "name": "stdout",
     "output_type": "stream",
     "text": [
      "Fitting 3 folds for each of 42 candidates, totalling 126 fits\n"
     ]
    },
    {
     "name": "stderr",
     "output_type": "stream",
     "text": [
      "[Parallel(n_jobs=1)]: Using backend SequentialBackend with 1 concurrent workers.\n",
      "[Parallel(n_jobs=1)]: Done 126 out of 126 | elapsed:  5.1min finished\n"
     ]
    },
    {
     "data": {
      "text/plain": [
       "GridSearchCV(cv=StratifiedKFold(n_splits=3, random_state=42, shuffle=False),\n",
       "             estimator=Pipeline(steps=[('prep',\n",
       "                                        ColumnTransformer(transformers=[('numeric',\n",
       "                                                                         Pipeline(steps=[('imputer',\n",
       "                                                                                          SimpleImputer())]),\n",
       "                                                                         ['fireplaces',\n",
       "                                                                          'market_value',\n",
       "                                                                          'number_of_rooms',\n",
       "                                                                          'total_area',\n",
       "                                                                          'total_livable_area']),\n",
       "                                                                        ('categoric',\n",
       "                                                                         Pipeline(steps=[('imputer',\n",
       "                                                                                          SimpleImputer(strategy='most_f...\n",
       "                                                                          'garage_type',\n",
       "                                                                          'interior_condition',\n",
       "                                                                          'parcel_shape',\n",
       "                                                                          'topography',\n",
       "                                                                          'type_heater',\n",
       "                                                                          'view_type',\n",
       "                                                                          'building_description'])])),\n",
       "                                       ('algo', LogisticRegression())]),\n",
       "             n_jobs=1,\n",
       "             param_grid={'algo__C': array([1.e-03, 1.e-02, 1.e-01, 1.e+00, 1.e+01, 1.e+02, 1.e+03]),\n",
       "                         'algo__fit_intercept': [True, False],\n",
       "                         'algo__penalty': ['l1', 'l2', 'elasticnet']},\n",
       "             scoring='balanced_accuracy', verbose=1)"
      ]
     },
     "execution_count": 41,
     "metadata": {},
     "output_type": "execute_result"
    }
   ],
   "source": [
    "skf = StratifiedKFold(n_splits=3, random_state=42)\n",
    "\n",
    "param_LR = {\n",
    "    \"algo__C\" : np.logspace(-3, 3, 7),\n",
    "    \"algo__penalty\" : ['l1', 'l2', 'elasticnet'],\n",
    "    \"algo__fit_intercept\" : [True,False]\n",
    "}\n",
    "\n",
    "GS_LR = GridSearchCV(pipeLR, param_LR, cv = skf, n_jobs = 1, verbose = 1, scoring='balanced_accuracy')\n",
    "GS_LR.fit(X_train, y_train)"
   ]
  },
  {
   "cell_type": "code",
   "execution_count": 42,
   "metadata": {},
   "outputs": [
    {
     "data": {
      "text/plain": [
       "{'algo__C': 0.001, 'algo__fit_intercept': True, 'algo__penalty': 'l2'}"
      ]
     },
     "execution_count": 42,
     "metadata": {},
     "output_type": "execute_result"
    }
   ],
   "source": [
    "GS_LR.best_params_"
   ]
  },
  {
   "cell_type": "code",
   "execution_count": 43,
   "metadata": {},
   "outputs": [],
   "source": [
    "LR_Tuned = GS_LR.best_estimator_"
   ]
  },
  {
   "cell_type": "code",
   "execution_count": 44,
   "metadata": {},
   "outputs": [],
   "source": [
    "y_LR_Tuned_train = LR_Tuned.predict(X_train)"
   ]
  },
  {
   "cell_type": "code",
   "execution_count": 45,
   "metadata": {},
   "outputs": [],
   "source": [
    "y_LR_Tuned_test = LR_Tuned.predict(X_test)"
   ]
  },
  {
   "cell_type": "code",
   "execution_count": 46,
   "metadata": {},
   "outputs": [
    {
     "data": {
      "text/plain": [
       "0.7603338297692978"
      ]
     },
     "execution_count": 46,
     "metadata": {},
     "output_type": "execute_result"
    }
   ],
   "source": [
    "accuracy_score(y_train, y_LR_Tuned_train)"
   ]
  },
  {
   "cell_type": "code",
   "execution_count": 47,
   "metadata": {},
   "outputs": [
    {
     "data": {
      "text/plain": [
       "0.7566595481623019"
      ]
     },
     "execution_count": 47,
     "metadata": {},
     "output_type": "execute_result"
    }
   ],
   "source": [
    "accuracy_score(y_test, y_LR_Tuned_test)"
   ]
  },
  {
   "cell_type": "code",
   "execution_count": 48,
   "metadata": {},
   "outputs": [
    {
     "name": "stdout",
     "output_type": "stream",
     "text": [
      "              precision    recall  f1-score   support\n",
      "\n",
      "      Bottom       0.85      0.90      0.88      4788\n",
      "Lower Middle       0.65      0.76      0.70      3089\n",
      "      Middle       0.34      0.07      0.11       826\n",
      "         Top       0.00      0.00      0.00        42\n",
      "Upper Middle       0.22      0.04      0.07       152\n",
      "\n",
      "    accuracy                           0.76      8897\n",
      "   macro avg       0.41      0.35      0.35      8897\n",
      "weighted avg       0.72      0.76      0.73      8897\n",
      "\n"
     ]
    }
   ],
   "source": [
    "print(classification_report(y_test, y_LR_Tuned_test))"
   ]
  },
  {
   "cell_type": "markdown",
   "metadata": {},
   "source": [
    "# DecisionTreeClassifier"
   ]
  },
  {
   "cell_type": "code",
   "execution_count": 49,
   "metadata": {},
   "outputs": [
    {
     "name": "stdout",
     "output_type": "stream",
     "text": [
      "Fitting 3 folds for each of 64 candidates, totalling 192 fits\n"
     ]
    },
    {
     "name": "stderr",
     "output_type": "stream",
     "text": [
      "[Parallel(n_jobs=1)]: Using backend SequentialBackend with 1 concurrent workers.\n",
      "[Parallel(n_jobs=1)]: Done 192 out of 192 | elapsed:  5.2min finished\n"
     ]
    },
    {
     "data": {
      "text/plain": [
       "GridSearchCV(cv=StratifiedKFold(n_splits=3, random_state=42, shuffle=False),\n",
       "             estimator=Pipeline(steps=[('prep',\n",
       "                                        ColumnTransformer(transformers=[('numeric',\n",
       "                                                                         Pipeline(steps=[('imputer',\n",
       "                                                                                          SimpleImputer())]),\n",
       "                                                                         ['fireplaces',\n",
       "                                                                          'market_value',\n",
       "                                                                          'number_of_rooms',\n",
       "                                                                          'total_area',\n",
       "                                                                          'total_livable_area']),\n",
       "                                                                        ('categoric',\n",
       "                                                                         Pipeline(steps=[('imputer',\n",
       "                                                                                          SimpleImputer(strategy='most_f...\n",
       "                                                                          'exterior_condition',\n",
       "                                                                          'garage_type',\n",
       "                                                                          'interior_condition',\n",
       "                                                                          'parcel_shape',\n",
       "                                                                          'topography',\n",
       "                                                                          'type_heater',\n",
       "                                                                          'view_type',\n",
       "                                                                          'building_description'])])),\n",
       "                                       ('algo', DecisionTreeClassifier())]),\n",
       "             n_jobs=1,\n",
       "             param_grid={'algo__max_depth': [None, 5, 10, 15],\n",
       "                         'algo__max_features': [0.3, 0.5, 0.7, 0.8],\n",
       "                         'algo__min_samples_leaf': array([ 1,  6, 11, 16])},\n",
       "             scoring='balanced_accuracy', verbose=1)"
      ]
     },
     "execution_count": 49,
     "metadata": {},
     "output_type": "execute_result"
    }
   ],
   "source": [
    "skf = StratifiedKFold(n_splits=3, random_state=42)\n",
    "\n",
    "param_DT = {\n",
    "   'algo__max_depth': [None, 5, 10, 15], \n",
    "   'algo__min_samples_leaf' : np.arange(1, 17, 5), \n",
    "   'algo__max_features' : [0.3, 0.5, 0.7, 0.8]\n",
    "}\n",
    "\n",
    "GS_DT = GridSearchCV(pipeDT, param_DT, cv = skf, n_jobs = 1, verbose = 1, scoring='balanced_accuracy')\n",
    "GS_DT.fit(X_train, y_train)"
   ]
  },
  {
   "cell_type": "code",
   "execution_count": 50,
   "metadata": {},
   "outputs": [
    {
     "data": {
      "text/plain": [
       "{'algo__max_depth': None,\n",
       " 'algo__max_features': 0.8,\n",
       " 'algo__min_samples_leaf': 6}"
      ]
     },
     "execution_count": 50,
     "metadata": {},
     "output_type": "execute_result"
    }
   ],
   "source": [
    "GS_DT.best_params_"
   ]
  },
  {
   "cell_type": "code",
   "execution_count": 51,
   "metadata": {},
   "outputs": [],
   "source": [
    "DT_Tuned = GS_DT.best_estimator_"
   ]
  },
  {
   "cell_type": "code",
   "execution_count": 52,
   "metadata": {},
   "outputs": [],
   "source": [
    "y_DT_Tuned_train = DT_Tuned.predict(X_train)"
   ]
  },
  {
   "cell_type": "code",
   "execution_count": 53,
   "metadata": {},
   "outputs": [],
   "source": [
    "y_DT_Tuned_test = DT_Tuned.predict(X_test)"
   ]
  },
  {
   "cell_type": "code",
   "execution_count": 54,
   "metadata": {},
   "outputs": [
    {
     "data": {
      "text/plain": [
       "0.9999437997021384"
      ]
     },
     "execution_count": 54,
     "metadata": {},
     "output_type": "execute_result"
    }
   ],
   "source": [
    "accuracy_score(y_train, y_DT_Tuned_train)"
   ]
  },
  {
   "cell_type": "code",
   "execution_count": 55,
   "metadata": {},
   "outputs": [
    {
     "data": {
      "text/plain": [
       "0.9998876025626616"
      ]
     },
     "execution_count": 55,
     "metadata": {},
     "output_type": "execute_result"
    }
   ],
   "source": [
    "accuracy_score(y_test, y_DT_Tuned_test)"
   ]
  },
  {
   "cell_type": "code",
   "execution_count": 56,
   "metadata": {},
   "outputs": [
    {
     "name": "stdout",
     "output_type": "stream",
     "text": [
      "              precision    recall  f1-score   support\n",
      "\n",
      "      Bottom       1.00      1.00      1.00      4788\n",
      "Lower Middle       1.00      1.00      1.00      3089\n",
      "      Middle       1.00      1.00      1.00       826\n",
      "         Top       1.00      1.00      1.00        42\n",
      "Upper Middle       1.00      1.00      1.00       152\n",
      "\n",
      "    accuracy                           1.00      8897\n",
      "   macro avg       1.00      1.00      1.00      8897\n",
      "weighted avg       1.00      1.00      1.00      8897\n",
      "\n"
     ]
    }
   ],
   "source": [
    "print(classification_report(y_test, y_DT_Tuned_test))"
   ]
  },
  {
   "cell_type": "markdown",
   "metadata": {},
   "source": [
    "# RandomForestClassifier"
   ]
  },
  {
   "cell_type": "code",
   "execution_count": 30,
   "metadata": {},
   "outputs": [
    {
     "name": "stdout",
     "output_type": "stream",
     "text": [
      "Fitting 3 folds for each of 36 candidates, totalling 108 fits\n"
     ]
    },
    {
     "name": "stderr",
     "output_type": "stream",
     "text": [
      "[Parallel(n_jobs=-1)]: Using backend LokyBackend with 8 concurrent workers.\n",
      "[Parallel(n_jobs=-1)]: Done  34 tasks      | elapsed:  1.3min\n",
      "[Parallel(n_jobs=-1)]: Done 108 out of 108 | elapsed:  3.1min finished\n"
     ]
    },
    {
     "data": {
      "text/plain": [
       "GridSearchCV(cv=StratifiedKFold(n_splits=3, random_state=42, shuffle=False),\n",
       "             estimator=Pipeline(steps=[('prep',\n",
       "                                        ColumnTransformer(transformers=[('numeric',\n",
       "                                                                         Pipeline(steps=[('imputer',\n",
       "                                                                                          SimpleImputer())]),\n",
       "                                                                         ['fireplaces',\n",
       "                                                                          'market_value',\n",
       "                                                                          'number_of_rooms',\n",
       "                                                                          'total_area',\n",
       "                                                                          'total_livable_area']),\n",
       "                                                                        ('categoric',\n",
       "                                                                         Pipeline(steps=[('imputer',\n",
       "                                                                                          SimpleImputer(strategy='most_f...\n",
       "                                                                          'garage_type',\n",
       "                                                                          'interior_condition',\n",
       "                                                                          'parcel_shape',\n",
       "                                                                          'topography',\n",
       "                                                                          'type_heater',\n",
       "                                                                          'view_type',\n",
       "                                                                          'building_description'])])),\n",
       "                                       ('algo', RandomForestClassifier())]),\n",
       "             n_jobs=-1,\n",
       "             param_grid={'algo__max_depth': [None, 5],\n",
       "                         'algo__max_features': [0.3, 0.5],\n",
       "                         'algo__min_samples_leaf': array([ 1,  6, 11]),\n",
       "                         'algo__n_estimators': array([100, 200, 300])},\n",
       "             scoring='balanced_accuracy', verbose=1)"
      ]
     },
     "execution_count": 30,
     "metadata": {},
     "output_type": "execute_result"
    }
   ],
   "source": [
    "skf = StratifiedKFold(n_splits=3, random_state=42)\n",
    "\n",
    "param_RF = {\n",
    "    \"algo__n_estimators\" : np.arange(100, 301, 100),\n",
    "    \"algo__max_depth\" : [None, 5],\n",
    "    \"algo__min_samples_leaf\" : np.arange(1, 12, 5),\n",
    "    \"algo__max_features\" : [0.3, 0.5]\n",
    "}\n",
    "\n",
    "GS_RF = GridSearchCV(pipeRF, param_RF, cv = skf, n_jobs = -1, verbose = 1, scoring='balanced_accuracy')\n",
    "GS_RF.fit(X_train, y_train)"
   ]
  },
  {
   "cell_type": "code",
   "execution_count": 31,
   "metadata": {},
   "outputs": [
    {
     "data": {
      "text/plain": [
       "{'algo__max_depth': None,\n",
       " 'algo__max_features': 0.5,\n",
       " 'algo__min_samples_leaf': 1,\n",
       " 'algo__n_estimators': 200}"
      ]
     },
     "execution_count": 31,
     "metadata": {},
     "output_type": "execute_result"
    }
   ],
   "source": [
    "GS_RF.best_params_"
   ]
  },
  {
   "cell_type": "code",
   "execution_count": 32,
   "metadata": {},
   "outputs": [],
   "source": [
    "RF_Tuned = GS_RF.best_estimator_"
   ]
  },
  {
   "cell_type": "code",
   "execution_count": 33,
   "metadata": {},
   "outputs": [],
   "source": [
    "y_RF_Tuned_train = RF_Tuned.predict(X_train)"
   ]
  },
  {
   "cell_type": "code",
   "execution_count": 34,
   "metadata": {},
   "outputs": [],
   "source": [
    "y_RF_Tuned_test = RF_Tuned.predict(X_test)"
   ]
  },
  {
   "cell_type": "code",
   "execution_count": 35,
   "metadata": {},
   "outputs": [
    {
     "data": {
      "text/plain": [
       "1.0"
      ]
     },
     "execution_count": 35,
     "metadata": {},
     "output_type": "execute_result"
    }
   ],
   "source": [
    "accuracy_score(y_train, y_RF_Tuned_train)"
   ]
  },
  {
   "cell_type": "code",
   "execution_count": 36,
   "metadata": {},
   "outputs": [
    {
     "data": {
      "text/plain": [
       "0.9998876025626616"
      ]
     },
     "execution_count": 36,
     "metadata": {},
     "output_type": "execute_result"
    }
   ],
   "source": [
    "accuracy_score(y_test, y_RF_Tuned_test)"
   ]
  },
  {
   "cell_type": "code",
   "execution_count": 37,
   "metadata": {},
   "outputs": [
    {
     "name": "stdout",
     "output_type": "stream",
     "text": [
      "              precision    recall  f1-score   support\n",
      "\n",
      "      Bottom       1.00      1.00      1.00      4788\n",
      "Lower Middle       1.00      1.00      1.00      3089\n",
      "      Middle       1.00      1.00      1.00       826\n",
      "         Top       1.00      1.00      1.00        42\n",
      "Upper Middle       1.00      1.00      1.00       152\n",
      "\n",
      "    accuracy                           1.00      8897\n",
      "   macro avg       1.00      1.00      1.00      8897\n",
      "weighted avg       1.00      1.00      1.00      8897\n",
      "\n"
     ]
    }
   ],
   "source": [
    "print(classification_report(y_test, y_RF_Tuned_test))"
   ]
  },
  {
   "cell_type": "markdown",
   "metadata": {},
   "source": [
    "# KNN"
   ]
  },
  {
   "cell_type": "code",
   "execution_count": 19,
   "metadata": {},
   "outputs": [
    {
     "name": "stdout",
     "output_type": "stream",
     "text": [
      "Fitting 3 folds for each of 28 candidates, totalling 84 fits\n"
     ]
    },
    {
     "name": "stderr",
     "output_type": "stream",
     "text": [
      "[Parallel(n_jobs=-1)]: Using backend LokyBackend with 8 concurrent workers.\n"
     ]
    },
    {
     "ename": "MemoryError",
     "evalue": "Unable to allocate 1.00 GiB for an array with shape (5657, 23724) and data type float64",
     "output_type": "error",
     "traceback": [
      "\u001b[1;31m---------------------------------------------------------------------------\u001b[0m",
      "\u001b[1;31m_RemoteTraceback\u001b[0m                          Traceback (most recent call last)",
      "\u001b[1;31m_RemoteTraceback\u001b[0m: \n\"\"\"\nTraceback (most recent call last):\n  File \"C:\\Users\\elvin\\anaconda3\\lib\\site-packages\\joblib\\externals\\loky\\process_executor.py\", line 431, in _process_worker\n    r = call_item()\n  File \"C:\\Users\\elvin\\anaconda3\\lib\\site-packages\\joblib\\externals\\loky\\process_executor.py\", line 285, in __call__\n    return self.fn(*self.args, **self.kwargs)\n  File \"C:\\Users\\elvin\\anaconda3\\lib\\site-packages\\joblib\\_parallel_backends.py\", line 595, in __call__\n    return self.func(*args, **kwargs)\n  File \"C:\\Users\\elvin\\anaconda3\\lib\\site-packages\\joblib\\parallel.py\", line 262, in __call__\n    return [func(*args, **kwargs)\n  File \"C:\\Users\\elvin\\anaconda3\\lib\\site-packages\\joblib\\parallel.py\", line 262, in <listcomp>\n    return [func(*args, **kwargs)\n  File \"C:\\Users\\elvin\\anaconda3\\lib\\site-packages\\sklearn\\model_selection\\_validation.py\", line 560, in _fit_and_score\n    test_scores = _score(estimator, X_test, y_test, scorer)\n  File \"C:\\Users\\elvin\\anaconda3\\lib\\site-packages\\sklearn\\model_selection\\_validation.py\", line 607, in _score\n    scores = scorer(estimator, X_test, y_test)\n  File \"C:\\Users\\elvin\\anaconda3\\lib\\site-packages\\sklearn\\metrics\\_scorer.py\", line 87, in __call__\n    score = scorer._score(cached_call, estimator,\n  File \"C:\\Users\\elvin\\anaconda3\\lib\\site-packages\\sklearn\\metrics\\_scorer.py\", line 206, in _score\n    y_pred = method_caller(estimator, \"predict\", X)\n  File \"C:\\Users\\elvin\\anaconda3\\lib\\site-packages\\sklearn\\metrics\\_scorer.py\", line 53, in _cached_call\n    return getattr(estimator, method)(*args, **kwargs)\n  File \"C:\\Users\\elvin\\anaconda3\\lib\\site-packages\\sklearn\\utils\\metaestimators.py\", line 119, in <lambda>\n    out = lambda *args, **kwargs: self.fn(obj, *args, **kwargs)\n  File \"C:\\Users\\elvin\\anaconda3\\lib\\site-packages\\sklearn\\pipeline.py\", line 408, in predict\n    return self.steps[-1][-1].predict(Xt, **predict_params)\n  File \"C:\\Users\\elvin\\anaconda3\\lib\\site-packages\\sklearn\\neighbors\\_classification.py\", line 175, in predict\n    neigh_dist, neigh_ind = self.kneighbors(X)\n  File \"C:\\Users\\elvin\\anaconda3\\lib\\site-packages\\sklearn\\neighbors\\_base.py\", line 641, in kneighbors\n    chunked_results = list(pairwise_distances_chunked(\n  File \"C:\\Users\\elvin\\anaconda3\\lib\\site-packages\\sklearn\\metrics\\pairwise.py\", line 1616, in pairwise_distances_chunked\n    D_chunk = pairwise_distances(X_chunk, Y, metric=metric,\n  File \"C:\\Users\\elvin\\anaconda3\\lib\\site-packages\\sklearn\\utils\\validation.py\", line 72, in inner_f\n    return f(**kwargs)\n  File \"C:\\Users\\elvin\\anaconda3\\lib\\site-packages\\sklearn\\metrics\\pairwise.py\", line 1779, in pairwise_distances\n    return _parallel_pairwise(X, Y, func, n_jobs, **kwds)\n  File \"C:\\Users\\elvin\\anaconda3\\lib\\site-packages\\sklearn\\metrics\\pairwise.py\", line 1360, in _parallel_pairwise\n    return func(X, Y, **kwds)\n  File \"C:\\Users\\elvin\\anaconda3\\lib\\site-packages\\sklearn\\utils\\validation.py\", line 72, in inner_f\n    return f(**kwargs)\n  File \"C:\\Users\\elvin\\anaconda3\\lib\\site-packages\\sklearn\\metrics\\pairwise.py\", line 792, in manhattan_distances\n    D = np.zeros((X.shape[0], Y.shape[0]))\nMemoryError: Unable to allocate 1.00 GiB for an array with shape (5657, 23724) and data type float64\n\"\"\"",
      "\nThe above exception was the direct cause of the following exception:\n",
      "\u001b[1;31mMemoryError\u001b[0m                               Traceback (most recent call last)",
      "\u001b[1;32m<ipython-input-19-27ef0158d3d1>\u001b[0m in \u001b[0;36m<module>\u001b[1;34m\u001b[0m\n\u001b[0;32m      8\u001b[0m \u001b[1;33m\u001b[0m\u001b[0m\n\u001b[0;32m      9\u001b[0m \u001b[0mGS_KNN\u001b[0m \u001b[1;33m=\u001b[0m \u001b[0mGridSearchCV\u001b[0m\u001b[1;33m(\u001b[0m\u001b[0mpipeKNN\u001b[0m\u001b[1;33m,\u001b[0m \u001b[0mparam_KNN\u001b[0m\u001b[1;33m,\u001b[0m \u001b[0mcv\u001b[0m \u001b[1;33m=\u001b[0m \u001b[0mskf\u001b[0m\u001b[1;33m,\u001b[0m \u001b[0mn_jobs\u001b[0m \u001b[1;33m=\u001b[0m \u001b[1;33m-\u001b[0m\u001b[1;36m1\u001b[0m\u001b[1;33m,\u001b[0m \u001b[0mverbose\u001b[0m \u001b[1;33m=\u001b[0m \u001b[1;36m1\u001b[0m\u001b[1;33m,\u001b[0m \u001b[0mscoring\u001b[0m\u001b[1;33m=\u001b[0m\u001b[1;34m'f1'\u001b[0m\u001b[1;33m)\u001b[0m\u001b[1;33m\u001b[0m\u001b[1;33m\u001b[0m\u001b[0m\n\u001b[1;32m---> 10\u001b[1;33m \u001b[0mGS_KNN\u001b[0m\u001b[1;33m.\u001b[0m\u001b[0mfit\u001b[0m\u001b[1;33m(\u001b[0m\u001b[0mX_train\u001b[0m\u001b[1;33m,\u001b[0m \u001b[0my_train\u001b[0m\u001b[1;33m)\u001b[0m\u001b[1;33m\u001b[0m\u001b[1;33m\u001b[0m\u001b[0m\n\u001b[0m",
      "\u001b[1;32m~\\anaconda3\\lib\\site-packages\\sklearn\\utils\\validation.py\u001b[0m in \u001b[0;36minner_f\u001b[1;34m(*args, **kwargs)\u001b[0m\n\u001b[0;32m     70\u001b[0m                           FutureWarning)\n\u001b[0;32m     71\u001b[0m         \u001b[0mkwargs\u001b[0m\u001b[1;33m.\u001b[0m\u001b[0mupdate\u001b[0m\u001b[1;33m(\u001b[0m\u001b[1;33m{\u001b[0m\u001b[0mk\u001b[0m\u001b[1;33m:\u001b[0m \u001b[0marg\u001b[0m \u001b[1;32mfor\u001b[0m \u001b[0mk\u001b[0m\u001b[1;33m,\u001b[0m \u001b[0marg\u001b[0m \u001b[1;32min\u001b[0m \u001b[0mzip\u001b[0m\u001b[1;33m(\u001b[0m\u001b[0msig\u001b[0m\u001b[1;33m.\u001b[0m\u001b[0mparameters\u001b[0m\u001b[1;33m,\u001b[0m \u001b[0margs\u001b[0m\u001b[1;33m)\u001b[0m\u001b[1;33m}\u001b[0m\u001b[1;33m)\u001b[0m\u001b[1;33m\u001b[0m\u001b[1;33m\u001b[0m\u001b[0m\n\u001b[1;32m---> 72\u001b[1;33m         \u001b[1;32mreturn\u001b[0m \u001b[0mf\u001b[0m\u001b[1;33m(\u001b[0m\u001b[1;33m**\u001b[0m\u001b[0mkwargs\u001b[0m\u001b[1;33m)\u001b[0m\u001b[1;33m\u001b[0m\u001b[1;33m\u001b[0m\u001b[0m\n\u001b[0m\u001b[0;32m     73\u001b[0m     \u001b[1;32mreturn\u001b[0m \u001b[0minner_f\u001b[0m\u001b[1;33m\u001b[0m\u001b[1;33m\u001b[0m\u001b[0m\n\u001b[0;32m     74\u001b[0m \u001b[1;33m\u001b[0m\u001b[0m\n",
      "\u001b[1;32m~\\anaconda3\\lib\\site-packages\\sklearn\\model_selection\\_search.py\u001b[0m in \u001b[0;36mfit\u001b[1;34m(self, X, y, groups, **fit_params)\u001b[0m\n\u001b[0;32m    734\u001b[0m                 \u001b[1;32mreturn\u001b[0m \u001b[0mresults\u001b[0m\u001b[1;33m\u001b[0m\u001b[1;33m\u001b[0m\u001b[0m\n\u001b[0;32m    735\u001b[0m \u001b[1;33m\u001b[0m\u001b[0m\n\u001b[1;32m--> 736\u001b[1;33m             \u001b[0mself\u001b[0m\u001b[1;33m.\u001b[0m\u001b[0m_run_search\u001b[0m\u001b[1;33m(\u001b[0m\u001b[0mevaluate_candidates\u001b[0m\u001b[1;33m)\u001b[0m\u001b[1;33m\u001b[0m\u001b[1;33m\u001b[0m\u001b[0m\n\u001b[0m\u001b[0;32m    737\u001b[0m \u001b[1;33m\u001b[0m\u001b[0m\n\u001b[0;32m    738\u001b[0m         \u001b[1;31m# For multi-metric evaluation, store the best_index_, best_params_ and\u001b[0m\u001b[1;33m\u001b[0m\u001b[1;33m\u001b[0m\u001b[1;33m\u001b[0m\u001b[0m\n",
      "\u001b[1;32m~\\anaconda3\\lib\\site-packages\\sklearn\\model_selection\\_search.py\u001b[0m in \u001b[0;36m_run_search\u001b[1;34m(self, evaluate_candidates)\u001b[0m\n\u001b[0;32m   1186\u001b[0m     \u001b[1;32mdef\u001b[0m \u001b[0m_run_search\u001b[0m\u001b[1;33m(\u001b[0m\u001b[0mself\u001b[0m\u001b[1;33m,\u001b[0m \u001b[0mevaluate_candidates\u001b[0m\u001b[1;33m)\u001b[0m\u001b[1;33m:\u001b[0m\u001b[1;33m\u001b[0m\u001b[1;33m\u001b[0m\u001b[0m\n\u001b[0;32m   1187\u001b[0m         \u001b[1;34m\"\"\"Search all candidates in param_grid\"\"\"\u001b[0m\u001b[1;33m\u001b[0m\u001b[1;33m\u001b[0m\u001b[0m\n\u001b[1;32m-> 1188\u001b[1;33m         \u001b[0mevaluate_candidates\u001b[0m\u001b[1;33m(\u001b[0m\u001b[0mParameterGrid\u001b[0m\u001b[1;33m(\u001b[0m\u001b[0mself\u001b[0m\u001b[1;33m.\u001b[0m\u001b[0mparam_grid\u001b[0m\u001b[1;33m)\u001b[0m\u001b[1;33m)\u001b[0m\u001b[1;33m\u001b[0m\u001b[1;33m\u001b[0m\u001b[0m\n\u001b[0m\u001b[0;32m   1189\u001b[0m \u001b[1;33m\u001b[0m\u001b[0m\n\u001b[0;32m   1190\u001b[0m \u001b[1;33m\u001b[0m\u001b[0m\n",
      "\u001b[1;32m~\\anaconda3\\lib\\site-packages\\sklearn\\model_selection\\_search.py\u001b[0m in \u001b[0;36mevaluate_candidates\u001b[1;34m(candidate_params)\u001b[0m\n\u001b[0;32m    706\u001b[0m                               n_splits, n_candidates, n_candidates * n_splits))\n\u001b[0;32m    707\u001b[0m \u001b[1;33m\u001b[0m\u001b[0m\n\u001b[1;32m--> 708\u001b[1;33m                 out = parallel(delayed(_fit_and_score)(clone(base_estimator),\n\u001b[0m\u001b[0;32m    709\u001b[0m                                                        \u001b[0mX\u001b[0m\u001b[1;33m,\u001b[0m \u001b[0my\u001b[0m\u001b[1;33m,\u001b[0m\u001b[1;33m\u001b[0m\u001b[1;33m\u001b[0m\u001b[0m\n\u001b[0;32m    710\u001b[0m                                                        \u001b[0mtrain\u001b[0m\u001b[1;33m=\u001b[0m\u001b[0mtrain\u001b[0m\u001b[1;33m,\u001b[0m \u001b[0mtest\u001b[0m\u001b[1;33m=\u001b[0m\u001b[0mtest\u001b[0m\u001b[1;33m,\u001b[0m\u001b[1;33m\u001b[0m\u001b[1;33m\u001b[0m\u001b[0m\n",
      "\u001b[1;32m~\\anaconda3\\lib\\site-packages\\joblib\\parallel.py\u001b[0m in \u001b[0;36m__call__\u001b[1;34m(self, iterable)\u001b[0m\n\u001b[0;32m   1059\u001b[0m \u001b[1;33m\u001b[0m\u001b[0m\n\u001b[0;32m   1060\u001b[0m             \u001b[1;32mwith\u001b[0m \u001b[0mself\u001b[0m\u001b[1;33m.\u001b[0m\u001b[0m_backend\u001b[0m\u001b[1;33m.\u001b[0m\u001b[0mretrieval_context\u001b[0m\u001b[1;33m(\u001b[0m\u001b[1;33m)\u001b[0m\u001b[1;33m:\u001b[0m\u001b[1;33m\u001b[0m\u001b[1;33m\u001b[0m\u001b[0m\n\u001b[1;32m-> 1061\u001b[1;33m                 \u001b[0mself\u001b[0m\u001b[1;33m.\u001b[0m\u001b[0mretrieve\u001b[0m\u001b[1;33m(\u001b[0m\u001b[1;33m)\u001b[0m\u001b[1;33m\u001b[0m\u001b[1;33m\u001b[0m\u001b[0m\n\u001b[0m\u001b[0;32m   1062\u001b[0m             \u001b[1;31m# Make sure that we get a last message telling us we are done\u001b[0m\u001b[1;33m\u001b[0m\u001b[1;33m\u001b[0m\u001b[1;33m\u001b[0m\u001b[0m\n\u001b[0;32m   1063\u001b[0m             \u001b[0melapsed_time\u001b[0m \u001b[1;33m=\u001b[0m \u001b[0mtime\u001b[0m\u001b[1;33m.\u001b[0m\u001b[0mtime\u001b[0m\u001b[1;33m(\u001b[0m\u001b[1;33m)\u001b[0m \u001b[1;33m-\u001b[0m \u001b[0mself\u001b[0m\u001b[1;33m.\u001b[0m\u001b[0m_start_time\u001b[0m\u001b[1;33m\u001b[0m\u001b[1;33m\u001b[0m\u001b[0m\n",
      "\u001b[1;32m~\\anaconda3\\lib\\site-packages\\joblib\\parallel.py\u001b[0m in \u001b[0;36mretrieve\u001b[1;34m(self)\u001b[0m\n\u001b[0;32m    938\u001b[0m             \u001b[1;32mtry\u001b[0m\u001b[1;33m:\u001b[0m\u001b[1;33m\u001b[0m\u001b[1;33m\u001b[0m\u001b[0m\n\u001b[0;32m    939\u001b[0m                 \u001b[1;32mif\u001b[0m \u001b[0mgetattr\u001b[0m\u001b[1;33m(\u001b[0m\u001b[0mself\u001b[0m\u001b[1;33m.\u001b[0m\u001b[0m_backend\u001b[0m\u001b[1;33m,\u001b[0m \u001b[1;34m'supports_timeout'\u001b[0m\u001b[1;33m,\u001b[0m \u001b[1;32mFalse\u001b[0m\u001b[1;33m)\u001b[0m\u001b[1;33m:\u001b[0m\u001b[1;33m\u001b[0m\u001b[1;33m\u001b[0m\u001b[0m\n\u001b[1;32m--> 940\u001b[1;33m                     \u001b[0mself\u001b[0m\u001b[1;33m.\u001b[0m\u001b[0m_output\u001b[0m\u001b[1;33m.\u001b[0m\u001b[0mextend\u001b[0m\u001b[1;33m(\u001b[0m\u001b[0mjob\u001b[0m\u001b[1;33m.\u001b[0m\u001b[0mget\u001b[0m\u001b[1;33m(\u001b[0m\u001b[0mtimeout\u001b[0m\u001b[1;33m=\u001b[0m\u001b[0mself\u001b[0m\u001b[1;33m.\u001b[0m\u001b[0mtimeout\u001b[0m\u001b[1;33m)\u001b[0m\u001b[1;33m)\u001b[0m\u001b[1;33m\u001b[0m\u001b[1;33m\u001b[0m\u001b[0m\n\u001b[0m\u001b[0;32m    941\u001b[0m                 \u001b[1;32melse\u001b[0m\u001b[1;33m:\u001b[0m\u001b[1;33m\u001b[0m\u001b[1;33m\u001b[0m\u001b[0m\n\u001b[0;32m    942\u001b[0m                     \u001b[0mself\u001b[0m\u001b[1;33m.\u001b[0m\u001b[0m_output\u001b[0m\u001b[1;33m.\u001b[0m\u001b[0mextend\u001b[0m\u001b[1;33m(\u001b[0m\u001b[0mjob\u001b[0m\u001b[1;33m.\u001b[0m\u001b[0mget\u001b[0m\u001b[1;33m(\u001b[0m\u001b[1;33m)\u001b[0m\u001b[1;33m)\u001b[0m\u001b[1;33m\u001b[0m\u001b[1;33m\u001b[0m\u001b[0m\n",
      "\u001b[1;32m~\\anaconda3\\lib\\site-packages\\joblib\\_parallel_backends.py\u001b[0m in \u001b[0;36mwrap_future_result\u001b[1;34m(future, timeout)\u001b[0m\n\u001b[0;32m    540\u001b[0m         AsyncResults.get from multiprocessing.\"\"\"\n\u001b[0;32m    541\u001b[0m         \u001b[1;32mtry\u001b[0m\u001b[1;33m:\u001b[0m\u001b[1;33m\u001b[0m\u001b[1;33m\u001b[0m\u001b[0m\n\u001b[1;32m--> 542\u001b[1;33m             \u001b[1;32mreturn\u001b[0m \u001b[0mfuture\u001b[0m\u001b[1;33m.\u001b[0m\u001b[0mresult\u001b[0m\u001b[1;33m(\u001b[0m\u001b[0mtimeout\u001b[0m\u001b[1;33m=\u001b[0m\u001b[0mtimeout\u001b[0m\u001b[1;33m)\u001b[0m\u001b[1;33m\u001b[0m\u001b[1;33m\u001b[0m\u001b[0m\n\u001b[0m\u001b[0;32m    543\u001b[0m         \u001b[1;32mexcept\u001b[0m \u001b[0mCfTimeoutError\u001b[0m \u001b[1;32mas\u001b[0m \u001b[0me\u001b[0m\u001b[1;33m:\u001b[0m\u001b[1;33m\u001b[0m\u001b[1;33m\u001b[0m\u001b[0m\n\u001b[0;32m    544\u001b[0m             \u001b[1;32mraise\u001b[0m \u001b[0mTimeoutError\u001b[0m \u001b[1;32mfrom\u001b[0m \u001b[0me\u001b[0m\u001b[1;33m\u001b[0m\u001b[1;33m\u001b[0m\u001b[0m\n",
      "\u001b[1;32m~\\anaconda3\\lib\\concurrent\\futures\\_base.py\u001b[0m in \u001b[0;36mresult\u001b[1;34m(self, timeout)\u001b[0m\n\u001b[0;32m    437\u001b[0m                 \u001b[1;32mraise\u001b[0m \u001b[0mCancelledError\u001b[0m\u001b[1;33m(\u001b[0m\u001b[1;33m)\u001b[0m\u001b[1;33m\u001b[0m\u001b[1;33m\u001b[0m\u001b[0m\n\u001b[0;32m    438\u001b[0m             \u001b[1;32melif\u001b[0m \u001b[0mself\u001b[0m\u001b[1;33m.\u001b[0m\u001b[0m_state\u001b[0m \u001b[1;33m==\u001b[0m \u001b[0mFINISHED\u001b[0m\u001b[1;33m:\u001b[0m\u001b[1;33m\u001b[0m\u001b[1;33m\u001b[0m\u001b[0m\n\u001b[1;32m--> 439\u001b[1;33m                 \u001b[1;32mreturn\u001b[0m \u001b[0mself\u001b[0m\u001b[1;33m.\u001b[0m\u001b[0m__get_result\u001b[0m\u001b[1;33m(\u001b[0m\u001b[1;33m)\u001b[0m\u001b[1;33m\u001b[0m\u001b[1;33m\u001b[0m\u001b[0m\n\u001b[0m\u001b[0;32m    440\u001b[0m             \u001b[1;32melse\u001b[0m\u001b[1;33m:\u001b[0m\u001b[1;33m\u001b[0m\u001b[1;33m\u001b[0m\u001b[0m\n\u001b[0;32m    441\u001b[0m                 \u001b[1;32mraise\u001b[0m \u001b[0mTimeoutError\u001b[0m\u001b[1;33m(\u001b[0m\u001b[1;33m)\u001b[0m\u001b[1;33m\u001b[0m\u001b[1;33m\u001b[0m\u001b[0m\n",
      "\u001b[1;32m~\\anaconda3\\lib\\concurrent\\futures\\_base.py\u001b[0m in \u001b[0;36m__get_result\u001b[1;34m(self)\u001b[0m\n\u001b[0;32m    386\u001b[0m     \u001b[1;32mdef\u001b[0m \u001b[0m__get_result\u001b[0m\u001b[1;33m(\u001b[0m\u001b[0mself\u001b[0m\u001b[1;33m)\u001b[0m\u001b[1;33m:\u001b[0m\u001b[1;33m\u001b[0m\u001b[1;33m\u001b[0m\u001b[0m\n\u001b[0;32m    387\u001b[0m         \u001b[1;32mif\u001b[0m \u001b[0mself\u001b[0m\u001b[1;33m.\u001b[0m\u001b[0m_exception\u001b[0m\u001b[1;33m:\u001b[0m\u001b[1;33m\u001b[0m\u001b[1;33m\u001b[0m\u001b[0m\n\u001b[1;32m--> 388\u001b[1;33m             \u001b[1;32mraise\u001b[0m \u001b[0mself\u001b[0m\u001b[1;33m.\u001b[0m\u001b[0m_exception\u001b[0m\u001b[1;33m\u001b[0m\u001b[1;33m\u001b[0m\u001b[0m\n\u001b[0m\u001b[0;32m    389\u001b[0m         \u001b[1;32melse\u001b[0m\u001b[1;33m:\u001b[0m\u001b[1;33m\u001b[0m\u001b[1;33m\u001b[0m\u001b[0m\n\u001b[0;32m    390\u001b[0m             \u001b[1;32mreturn\u001b[0m \u001b[0mself\u001b[0m\u001b[1;33m.\u001b[0m\u001b[0m_result\u001b[0m\u001b[1;33m\u001b[0m\u001b[1;33m\u001b[0m\u001b[0m\n",
      "\u001b[1;31mMemoryError\u001b[0m: Unable to allocate 1.00 GiB for an array with shape (5657, 23724) and data type float64"
     ]
    }
   ],
   "source": [
    "skf = StratifiedKFold(n_splits=3, random_state=42)\n",
    "\n",
    "param_KNN = {\n",
    "    \"algo__n_neighbors\" : np.arange(1, 15, 2),\n",
    "    \"algo__p\" : [1, 2],\n",
    "    \"algo__weights\" : ['uniform', 'distance']\n",
    "}\n",
    "\n",
    "GS_KNN = GridSearchCV(pipeKNN, param_KNN, cv = skf, n_jobs = -1, verbose = 1, scoring='f1')\n",
    "GS_KNN.fit(X_train, y_train)"
   ]
  },
  {
   "cell_type": "code",
   "execution_count": 185,
   "metadata": {},
   "outputs": [
    {
     "data": {
      "text/plain": [
       "{'algo__n_neighbors': 11, 'algo__p': 2, 'algo__weights': 'uniform'}"
      ]
     },
     "execution_count": 185,
     "metadata": {},
     "output_type": "execute_result"
    }
   ],
   "source": [
    "GS_KNN.best_params_"
   ]
  },
  {
   "cell_type": "code",
   "execution_count": 186,
   "metadata": {},
   "outputs": [],
   "source": [
    "KNN_Tuned = GS_KNN.best_estimator_"
   ]
  },
  {
   "cell_type": "code",
   "execution_count": 187,
   "metadata": {},
   "outputs": [],
   "source": [
    "y_KNN_Tuned_train = KNN_Tuned.predict(X_train)"
   ]
  },
  {
   "cell_type": "code",
   "execution_count": 188,
   "metadata": {},
   "outputs": [],
   "source": [
    "y_KNN_Tuned_test = KNN_Tuned.predict(X_test)"
   ]
  },
  {
   "cell_type": "code",
   "execution_count": 189,
   "metadata": {},
   "outputs": [
    {
     "data": {
      "text/plain": [
       "0.9993536965745918"
      ]
     },
     "execution_count": 189,
     "metadata": {},
     "output_type": "execute_result"
    }
   ],
   "source": [
    "accuracy_score(y_train, y_KNN_Tuned_train)"
   ]
  },
  {
   "cell_type": "code",
   "execution_count": 190,
   "metadata": {},
   "outputs": [
    {
     "data": {
      "text/plain": [
       "0.9993256153759694"
      ]
     },
     "execution_count": 190,
     "metadata": {},
     "output_type": "execute_result"
    }
   ],
   "source": [
    "accuracy_score(y_test, y_KNN_Tuned_test)"
   ]
  },
  {
   "cell_type": "code",
   "execution_count": 191,
   "metadata": {},
   "outputs": [
    {
     "name": "stdout",
     "output_type": "stream",
     "text": [
      "              precision    recall  f1-score   support\n",
      "\n",
      "      Bottom       1.00      1.00      1.00      4788\n",
      "Lower Middle       1.00      1.00      1.00      3089\n",
      "      Middle       1.00      1.00      1.00       826\n",
      "         Top       1.00      1.00      1.00        42\n",
      "Upper Middle       1.00      0.98      0.99       152\n",
      "\n",
      "    accuracy                           1.00      8897\n",
      "   macro avg       1.00      1.00      1.00      8897\n",
      "weighted avg       1.00      1.00      1.00      8897\n",
      "\n"
     ]
    }
   ],
   "source": [
    "print(classification_report(y_test, y_KNN_Tuned_test))"
   ]
  },
  {
   "cell_type": "markdown",
   "metadata": {},
   "source": [
    "# ================================================="
   ]
  },
  {
   "cell_type": "markdown",
   "metadata": {},
   "source": [
    "# Fine Tuning"
   ]
  },
  {
   "cell_type": "markdown",
   "metadata": {},
   "source": [
    "## DecisionTreeClassifier"
   ]
  },
  {
   "cell_type": "code",
   "execution_count": 11,
   "metadata": {},
   "outputs": [],
   "source": [
    "pipeDT_Tuning = Pipeline([\n",
    "    (\"prep\", preprocessor),\n",
    "    (\"algo\", DecisionTreeClassifier(max_depth = 4, max_features = 0.5, min_samples_leaf = 4, min_samples_split = 2, random_state=42))\n",
    "])"
   ]
  },
  {
   "cell_type": "code",
   "execution_count": 12,
   "metadata": {},
   "outputs": [
    {
     "data": {
      "text/plain": [
       "Pipeline(steps=[('prep',\n",
       "                 ColumnTransformer(transformers=[('numeric',\n",
       "                                                  Pipeline(steps=[('imputer',\n",
       "                                                                   SimpleImputer())]),\n",
       "                                                  ['fireplaces', 'market_value',\n",
       "                                                   'number_of_rooms',\n",
       "                                                   'total_area',\n",
       "                                                   'total_livable_area']),\n",
       "                                                 ('categoric',\n",
       "                                                  Pipeline(steps=[('imputer',\n",
       "                                                                   SimpleImputer(strategy='most_frequent')),\n",
       "                                                                  ('encoder',\n",
       "                                                                   OneHotEncoder())]),\n",
       "                                                  ['basements', 'central_air',\n",
       "                                                   'exterior_condition',\n",
       "                                                   'garage_type',\n",
       "                                                   'interior_condition',\n",
       "                                                   'parcel_shape', 'topography',\n",
       "                                                   'type_heater', 'view_type',\n",
       "                                                   'building_description'])])),\n",
       "                ('algo',\n",
       "                 DecisionTreeClassifier(max_depth=4, max_features=0.5,\n",
       "                                        min_samples_leaf=4, random_state=42))])"
      ]
     },
     "execution_count": 12,
     "metadata": {},
     "output_type": "execute_result"
    }
   ],
   "source": [
    "pipeDT_Tuning.fit(X_train, y_train)"
   ]
  },
  {
   "cell_type": "code",
   "execution_count": 13,
   "metadata": {},
   "outputs": [],
   "source": [
    "y_train_DT_Fine_Tuned = pipeDT_Tuning.predict(X_train)"
   ]
  },
  {
   "cell_type": "code",
   "execution_count": 14,
   "metadata": {},
   "outputs": [],
   "source": [
    "y_test_DT_Fine_Tuned = pipeDT_Tuning.predict(X_test)"
   ]
  },
  {
   "cell_type": "code",
   "execution_count": 15,
   "metadata": {},
   "outputs": [
    {
     "data": {
      "text/plain": [
       "0.9324472419703824"
      ]
     },
     "execution_count": 15,
     "metadata": {},
     "output_type": "execute_result"
    }
   ],
   "source": [
    "accuracy_score(y_train, y_train_DT_Fine_Tuned)"
   ]
  },
  {
   "cell_type": "code",
   "execution_count": 16,
   "metadata": {},
   "outputs": [
    {
     "data": {
      "text/plain": [
       "0.9337979094076655"
      ]
     },
     "execution_count": 16,
     "metadata": {},
     "output_type": "execute_result"
    }
   ],
   "source": [
    "accuracy_score(y_test, y_test_DT_Fine_Tuned)"
   ]
  },
  {
   "cell_type": "code",
   "execution_count": 17,
   "metadata": {},
   "outputs": [
    {
     "name": "stdout",
     "output_type": "stream",
     "text": [
      "              precision    recall  f1-score   support\n",
      "\n",
      "      Bottom       1.00      0.97      0.98      4788\n",
      "Lower Middle       0.89      0.98      0.93      3089\n",
      "      Middle       0.77      0.74      0.76       826\n",
      "         Top       0.00      0.00      0.00        42\n",
      "Upper Middle       0.46      0.27      0.34       152\n",
      "\n",
      "    accuracy                           0.93      8897\n",
      "   macro avg       0.62      0.59      0.60      8897\n",
      "weighted avg       0.93      0.93      0.93      8897\n",
      "\n"
     ]
    }
   ],
   "source": [
    "print(classification_report(y_test, y_test_DT_Fine_Tuned))"
   ]
  },
  {
   "cell_type": "code",
   "execution_count": null,
   "metadata": {},
   "outputs": [],
   "source": [
    "\"n_estimators\" : np.arange(100, 301, 100),\n",
    "    \"algo__max_depth\" : [None, 5],\n",
    "    \"algo__min_samples_leaf\" : np.arange(1, 12, 5),\n",
    "    \"algo__max_features\" : [0.3, 0.5]\n",
    "}"
   ]
  },
  {
   "cell_type": "code",
   "execution_count": 43,
   "metadata": {},
   "outputs": [],
   "source": [
    "pipeRF_tuning = Pipeline([\n",
    "    (\"prep\", preprocessor),\n",
    "    (\"algo\", RandomForestClassifier(n_estimators = 100, max_depth= None, min_samples_leaf= 2, max_features= 0.3))\n",
    "])"
   ]
  },
  {
   "cell_type": "code",
   "execution_count": 44,
   "metadata": {},
   "outputs": [
    {
     "data": {
      "text/plain": [
       "Pipeline(steps=[('prep',\n",
       "                 ColumnTransformer(transformers=[('numeric',\n",
       "                                                  Pipeline(steps=[('imputer',\n",
       "                                                                   SimpleImputer())]),\n",
       "                                                  ['fireplaces', 'market_value',\n",
       "                                                   'number_of_rooms',\n",
       "                                                   'total_area',\n",
       "                                                   'total_livable_area']),\n",
       "                                                 ('categoric',\n",
       "                                                  Pipeline(steps=[('imputer',\n",
       "                                                                   SimpleImputer(strategy='most_frequent')),\n",
       "                                                                  ('encoder',\n",
       "                                                                   OneHotEncoder())]),\n",
       "                                                  ['basements', 'central_air',\n",
       "                                                   'exterior_condition',\n",
       "                                                   'garage_type',\n",
       "                                                   'interior_condition',\n",
       "                                                   'parcel_shape', 'topography',\n",
       "                                                   'type_heater', 'view_type',\n",
       "                                                   'building_description'])])),\n",
       "                ('algo',\n",
       "                 RandomForestClassifier(max_features=0.3, min_samples_leaf=2))])"
      ]
     },
     "execution_count": 44,
     "metadata": {},
     "output_type": "execute_result"
    }
   ],
   "source": [
    "pipeRF_tuning.fit(X_train, y_train)"
   ]
  },
  {
   "cell_type": "code",
   "execution_count": 45,
   "metadata": {},
   "outputs": [],
   "source": [
    "y_train_RF_Fine_Tuned = pipeRF_tuning.predict(X_train)"
   ]
  },
  {
   "cell_type": "code",
   "execution_count": 50,
   "metadata": {},
   "outputs": [],
   "source": [
    "y_test_RF_Fine_Tuned = pipeRF_tuning.predict(X_test)"
   ]
  },
  {
   "cell_type": "code",
   "execution_count": 51,
   "metadata": {},
   "outputs": [
    {
     "data": {
      "text/plain": [
       "0.9999718998510692"
      ]
     },
     "execution_count": 51,
     "metadata": {},
     "output_type": "execute_result"
    }
   ],
   "source": [
    "accuracy_score(y_train, y_train_RF_Fine_Tuned)"
   ]
  },
  {
   "cell_type": "code",
   "execution_count": 52,
   "metadata": {},
   "outputs": [
    {
     "data": {
      "text/plain": [
       "0.9996628076879848"
      ]
     },
     "execution_count": 52,
     "metadata": {},
     "output_type": "execute_result"
    }
   ],
   "source": [
    "accuracy_score(y_test, y_test_RF_Fine_Tuned)"
   ]
  },
  {
   "cell_type": "code",
   "execution_count": 53,
   "metadata": {},
   "outputs": [
    {
     "name": "stdout",
     "output_type": "stream",
     "text": [
      "              precision    recall  f1-score   support\n",
      "\n",
      "      Bottom       1.00      0.97      0.98      4788\n",
      "Lower Middle       0.89      0.98      0.93      3089\n",
      "      Middle       0.77      0.74      0.76       826\n",
      "         Top       0.00      0.00      0.00        42\n",
      "Upper Middle       0.46      0.27      0.34       152\n",
      "\n",
      "    accuracy                           0.93      8897\n",
      "   macro avg       0.62      0.59      0.60      8897\n",
      "weighted avg       0.93      0.93      0.93      8897\n",
      "\n"
     ]
    }
   ],
   "source": [
    "print(classification_report(y_test, y_test_DT_Fine_Tuned))"
   ]
  },
  {
   "cell_type": "markdown",
   "metadata": {},
   "source": [
    "# over sampling"
   ]
  },
  {
   "cell_type": "code",
   "execution_count": 141,
   "metadata": {},
   "outputs": [],
   "source": [
    "from sklearn.utils import resample"
   ]
  },
  {
   "cell_type": "code",
   "execution_count": 142,
   "metadata": {},
   "outputs": [],
   "source": [
    "df_train = pd.concat([X_train, y_train], axis=1)"
   ]
  },
  {
   "cell_type": "code",
   "execution_count": 143,
   "metadata": {},
   "outputs": [
    {
     "data": {
      "text/plain": [
       "Bottom          19150\n",
       "Lower Middle    12354\n",
       "Middle           3306\n",
       "Upper Middle      608\n",
       "Top               169\n",
       "Name: segment, dtype: int64"
      ]
     },
     "execution_count": 143,
     "metadata": {},
     "output_type": "execute_result"
    }
   ],
   "source": [
    "df_train['segment'].value_counts()"
   ]
  },
  {
   "cell_type": "code",
   "execution_count": 144,
   "metadata": {},
   "outputs": [],
   "source": [
    "top = df_train[df_train['segment'] == 'Top'] ## Kelas Minority\n",
    "upper_middle = df_train[df_train['segment'] == 'Upper Middle']\n",
    "middle = df_train[df_train['segment'] == 'Middle']"
   ]
  },
  {
   "cell_type": "code",
   "execution_count": 145,
   "metadata": {},
   "outputs": [],
   "source": [
    "lower_middle = df_train[df_train['segment'] == 'Lower Middle'] ## Kelas Majority\n"
   ]
  },
  {
   "cell_type": "code",
   "execution_count": 146,
   "metadata": {},
   "outputs": [],
   "source": [
    "bottom = df_train[df_train['segment'] == 'Bottom'] ## Kelas Majority\n"
   ]
  },
  {
   "cell_type": "code",
   "execution_count": 147,
   "metadata": {},
   "outputs": [],
   "source": [
    "top_oversample = resample(top, ## Kelas Minority\n",
    "                           replace=True,\n",
    "                           n_samples=len(bottom), ## Kelas Majority\n",
    "                           random_state = 42)\n",
    "upper_middle_oversample = resample(upper_middle, ## Kelas Minority\n",
    "                           replace=True,\n",
    "                           n_samples=len(bottom), ## Kelas Majority\n",
    "                           random_state = 42)\n",
    "middle_oversample = resample(middle, ## Kelas Minority\n",
    "                           replace=True,\n",
    "                           n_samples=len(bottom), ## Kelas Majority\n",
    "                           random_state = 42)"
   ]
  },
  {
   "cell_type": "code",
   "execution_count": 148,
   "metadata": {},
   "outputs": [],
   "source": [
    "df_OverSample = pd.concat([bottom, lower_middle, top_oversample, upper_middle_oversample, middle_oversample])"
   ]
  },
  {
   "cell_type": "code",
   "execution_count": 149,
   "metadata": {},
   "outputs": [],
   "source": [
    "X_train_OS = df_OverSample.drop(columns='segment')\n",
    "y_train_OS = df_OverSample['segment']"
   ]
  },
  {
   "cell_type": "markdown",
   "metadata": {},
   "source": [
    "# LR oversampling"
   ]
  },
  {
   "cell_type": "code",
   "execution_count": 265,
   "metadata": {},
   "outputs": [
    {
     "data": {
      "text/plain": [
       "Pipeline(steps=[('prep',\n",
       "                 ColumnTransformer(transformers=[('numeric',\n",
       "                                                  Pipeline(steps=[('imputer',\n",
       "                                                                   SimpleImputer())]),\n",
       "                                                  ['fireplaces', 'market_value',\n",
       "                                                   'number_of_rooms',\n",
       "                                                   'total_area',\n",
       "                                                   'total_livable_area']),\n",
       "                                                 ('categoric',\n",
       "                                                  Pipeline(steps=[('imputer',\n",
       "                                                                   SimpleImputer(strategy='most_frequent')),\n",
       "                                                                  ('encoder',\n",
       "                                                                   OneHotEncoder())]),\n",
       "                                                  ['basements', 'central_air',\n",
       "                                                   'exterior_condition',\n",
       "                                                   'garage_type',\n",
       "                                                   'interior_condition',\n",
       "                                                   'parcel_shape', 'topography',\n",
       "                                                   'type_heater', 'view_type',\n",
       "                                                   'building_description'])])),\n",
       "                ('algo', LogisticRegression())])"
      ]
     },
     "execution_count": 265,
     "metadata": {},
     "output_type": "execute_result"
    }
   ],
   "source": [
    "pipeLR.fit(X_train_OS, y_train_OS)"
   ]
  },
  {
   "cell_type": "code",
   "execution_count": 266,
   "metadata": {},
   "outputs": [],
   "source": [
    "y_LR_trainOS = pipeLR.predict(X_train)"
   ]
  },
  {
   "cell_type": "code",
   "execution_count": 267,
   "metadata": {},
   "outputs": [],
   "source": [
    "y_LR_testOS = pipeLR.predict(X_test)"
   ]
  },
  {
   "cell_type": "code",
   "execution_count": 268,
   "metadata": {},
   "outputs": [
    {
     "data": {
      "text/plain": [
       "0.4681765813358811"
      ]
     },
     "execution_count": 268,
     "metadata": {},
     "output_type": "execute_result"
    }
   ],
   "source": [
    "accuracy_score(y_train, y_LR_trainOS)"
   ]
  },
  {
   "cell_type": "code",
   "execution_count": 269,
   "metadata": {},
   "outputs": [
    {
     "data": {
      "text/plain": [
       "0.4708328650106778"
      ]
     },
     "execution_count": 269,
     "metadata": {},
     "output_type": "execute_result"
    }
   ],
   "source": [
    "accuracy_score(y_test, y_LR_testOS)"
   ]
  },
  {
   "cell_type": "code",
   "execution_count": 271,
   "metadata": {},
   "outputs": [
    {
     "name": "stdout",
     "output_type": "stream",
     "text": [
      "              precision    recall  f1-score   support\n",
      "\n",
      "      Bottom       0.90      0.78      0.84      4788\n",
      "Lower Middle       0.00      0.00      0.00      3089\n",
      "      Middle       0.11      0.46      0.17       826\n",
      "         Top       0.05      0.79      0.09        42\n",
      "Upper Middle       0.05      0.20      0.09       152\n",
      "\n",
      "    accuracy                           0.47      8897\n",
      "   macro avg       0.22      0.45      0.24      8897\n",
      "weighted avg       0.49      0.47      0.47      8897\n",
      "\n"
     ]
    }
   ],
   "source": [
    "print(classification_report(y_test, y_LR_testOS))"
   ]
  },
  {
   "cell_type": "markdown",
   "metadata": {},
   "source": [
    "# KNN oversampling"
   ]
  },
  {
   "cell_type": "code",
   "execution_count": 272,
   "metadata": {},
   "outputs": [
    {
     "data": {
      "text/plain": [
       "Pipeline(steps=[('prep',\n",
       "                 ColumnTransformer(transformers=[('numeric',\n",
       "                                                  Pipeline(steps=[('imputer',\n",
       "                                                                   SimpleImputer())]),\n",
       "                                                  ['fireplaces', 'market_value',\n",
       "                                                   'number_of_rooms',\n",
       "                                                   'total_area',\n",
       "                                                   'total_livable_area']),\n",
       "                                                 ('categoric',\n",
       "                                                  Pipeline(steps=[('imputer',\n",
       "                                                                   SimpleImputer(strategy='most_frequent')),\n",
       "                                                                  ('encoder',\n",
       "                                                                   OneHotEncoder())]),\n",
       "                                                  ['basements', 'central_air',\n",
       "                                                   'exterior_condition',\n",
       "                                                   'garage_type',\n",
       "                                                   'interior_condition',\n",
       "                                                   'parcel_shape', 'topography',\n",
       "                                                   'type_heater', 'view_type',\n",
       "                                                   'building_description'])])),\n",
       "                ('algo', KNeighborsClassifier())])"
      ]
     },
     "execution_count": 272,
     "metadata": {},
     "output_type": "execute_result"
    }
   ],
   "source": [
    "pipeKNN.fit(X_train_OS, y_train_OS)"
   ]
  },
  {
   "cell_type": "code",
   "execution_count": 273,
   "metadata": {},
   "outputs": [],
   "source": [
    "y_KNN_trainOS = pipeKNN.predict(X_train)"
   ]
  },
  {
   "cell_type": "code",
   "execution_count": 274,
   "metadata": {},
   "outputs": [],
   "source": [
    "y_KNN_testOS = pipeKNN.predict(X_test)"
   ]
  },
  {
   "cell_type": "code",
   "execution_count": 275,
   "metadata": {},
   "outputs": [
    {
     "data": {
      "text/plain": [
       "0.999606597914969"
      ]
     },
     "execution_count": 275,
     "metadata": {},
     "output_type": "execute_result"
    }
   ],
   "source": [
    "accuracy_score(y_train, y_KNN_trainOS)"
   ]
  },
  {
   "cell_type": "code",
   "execution_count": 276,
   "metadata": {},
   "outputs": [
    {
     "data": {
      "text/plain": [
       "0.9987636281892773"
      ]
     },
     "execution_count": 276,
     "metadata": {},
     "output_type": "execute_result"
    }
   ],
   "source": [
    "accuracy_score(y_test, y_KNN_testOS)"
   ]
  },
  {
   "cell_type": "code",
   "execution_count": 278,
   "metadata": {},
   "outputs": [
    {
     "name": "stdout",
     "output_type": "stream",
     "text": [
      "              precision    recall  f1-score   support\n",
      "\n",
      "      Bottom       1.00      1.00      1.00      4788\n",
      "Lower Middle       1.00      1.00      1.00      3089\n",
      "      Middle       0.99      1.00      0.99       826\n",
      "         Top       1.00      1.00      1.00        42\n",
      "Upper Middle       0.99      0.99      0.99       152\n",
      "\n",
      "    accuracy                           1.00      8897\n",
      "   macro avg       1.00      1.00      1.00      8897\n",
      "weighted avg       1.00      1.00      1.00      8897\n",
      "\n"
     ]
    }
   ],
   "source": [
    "print(classification_report(y_test, y_KNN_testOS))"
   ]
  },
  {
   "cell_type": "markdown",
   "metadata": {},
   "source": [
    "# Dt oversample "
   ]
  },
  {
   "cell_type": "code",
   "execution_count": 280,
   "metadata": {},
   "outputs": [
    {
     "data": {
      "text/plain": [
       "Pipeline(steps=[('prep',\n",
       "                 ColumnTransformer(transformers=[('numeric',\n",
       "                                                  Pipeline(steps=[('imputer',\n",
       "                                                                   SimpleImputer())]),\n",
       "                                                  ['fireplaces', 'market_value',\n",
       "                                                   'number_of_rooms',\n",
       "                                                   'total_area',\n",
       "                                                   'total_livable_area']),\n",
       "                                                 ('categoric',\n",
       "                                                  Pipeline(steps=[('imputer',\n",
       "                                                                   SimpleImputer(strategy='most_frequent')),\n",
       "                                                                  ('encoder',\n",
       "                                                                   OneHotEncoder())]),\n",
       "                                                  ['basements', 'central_air',\n",
       "                                                   'exterior_condition',\n",
       "                                                   'garage_type',\n",
       "                                                   'interior_condition',\n",
       "                                                   'parcel_shape', 'topography',\n",
       "                                                   'type_heater', 'view_type',\n",
       "                                                   'building_description'])])),\n",
       "                ('algo', DecisionTreeClassifier())])"
      ]
     },
     "execution_count": 280,
     "metadata": {},
     "output_type": "execute_result"
    }
   ],
   "source": [
    "pipeDT.fit(X_train_OS, y_train_OS)"
   ]
  },
  {
   "cell_type": "code",
   "execution_count": 281,
   "metadata": {},
   "outputs": [],
   "source": [
    "y_DT_trainOS = pipeDT.predict(X_train)"
   ]
  },
  {
   "cell_type": "code",
   "execution_count": 282,
   "metadata": {},
   "outputs": [],
   "source": [
    "y_DT_testOS = pipeDT.predict(X_test)"
   ]
  },
  {
   "cell_type": "code",
   "execution_count": 284,
   "metadata": {},
   "outputs": [
    {
     "data": {
      "text/plain": [
       "1.0"
      ]
     },
     "execution_count": 284,
     "metadata": {},
     "output_type": "execute_result"
    }
   ],
   "source": [
    "accuracy_score(y_train, y_DT_trainOS)"
   ]
  },
  {
   "cell_type": "code",
   "execution_count": 285,
   "metadata": {},
   "outputs": [
    {
     "data": {
      "text/plain": [
       "0.9998876025626616"
      ]
     },
     "execution_count": 285,
     "metadata": {},
     "output_type": "execute_result"
    }
   ],
   "source": [
    "accuracy_score(y_test, y_DT_testOS)"
   ]
  },
  {
   "cell_type": "code",
   "execution_count": 286,
   "metadata": {},
   "outputs": [
    {
     "name": "stdout",
     "output_type": "stream",
     "text": [
      "              precision    recall  f1-score   support\n",
      "\n",
      "      Bottom       1.00      1.00      1.00      4788\n",
      "Lower Middle       1.00      1.00      1.00      3089\n",
      "      Middle       1.00      1.00      1.00       826\n",
      "         Top       1.00      1.00      1.00        42\n",
      "Upper Middle       1.00      1.00      1.00       152\n",
      "\n",
      "    accuracy                           1.00      8897\n",
      "   macro avg       1.00      1.00      1.00      8897\n",
      "weighted avg       1.00      1.00      1.00      8897\n",
      "\n"
     ]
    }
   ],
   "source": [
    "print(classification_report(y_test, y_DT_testOS))"
   ]
  },
  {
   "cell_type": "markdown",
   "metadata": {},
   "source": [
    "# DT Oversample fine tuning"
   ]
  },
  {
   "cell_type": "code",
   "execution_count": 258,
   "metadata": {},
   "outputs": [],
   "source": [
    "pipeDT_Tuning = Pipeline([\n",
    "    (\"prep\", preprocessor),\n",
    "    (\"algo\", DecisionTreeClassifier(max_depth =5, max_features = 0.4, min_samples_leaf = 2, min_samples_split = 2, random_state=42))\n",
    "])"
   ]
  },
  {
   "cell_type": "code",
   "execution_count": 259,
   "metadata": {},
   "outputs": [
    {
     "data": {
      "text/plain": [
       "Pipeline(steps=[('prep',\n",
       "                 ColumnTransformer(transformers=[('numeric',\n",
       "                                                  Pipeline(steps=[('imputer',\n",
       "                                                                   SimpleImputer())]),\n",
       "                                                  ['fireplaces', 'market_value',\n",
       "                                                   'number_of_rooms',\n",
       "                                                   'total_area',\n",
       "                                                   'total_livable_area']),\n",
       "                                                 ('categoric',\n",
       "                                                  Pipeline(steps=[('imputer',\n",
       "                                                                   SimpleImputer(strategy='most_frequent')),\n",
       "                                                                  ('encoder',\n",
       "                                                                   OneHotEncoder())]),\n",
       "                                                  ['basements', 'central_air',\n",
       "                                                   'exterior_condition',\n",
       "                                                   'garage_type',\n",
       "                                                   'interior_condition',\n",
       "                                                   'parcel_shape', 'topography',\n",
       "                                                   'type_heater', 'view_type',\n",
       "                                                   'building_description'])])),\n",
       "                ('algo',\n",
       "                 DecisionTreeClassifier(max_depth=5, max_features=0.4,\n",
       "                                        min_samples_leaf=2, random_state=42))])"
      ]
     },
     "execution_count": 259,
     "metadata": {},
     "output_type": "execute_result"
    }
   ],
   "source": [
    "pipeDT_Tuning.fit(X_train_OS, y_train_OS)"
   ]
  },
  {
   "cell_type": "code",
   "execution_count": 260,
   "metadata": {},
   "outputs": [],
   "source": [
    "y_train_DT_Fine_TunedOS = pipeDT_Tuning.predict(X_train)"
   ]
  },
  {
   "cell_type": "code",
   "execution_count": 261,
   "metadata": {},
   "outputs": [],
   "source": [
    "y_test_DT_Fine_TunedOS = pipeDT_Tuning.predict(X_test)"
   ]
  },
  {
   "cell_type": "code",
   "execution_count": 262,
   "metadata": {},
   "outputs": [
    {
     "data": {
      "text/plain": [
       "0.9140416444207154"
      ]
     },
     "execution_count": 262,
     "metadata": {},
     "output_type": "execute_result"
    }
   ],
   "source": [
    "accuracy_score(y_train, y_train_DT_Fine_TunedOS)"
   ]
  },
  {
   "cell_type": "code",
   "execution_count": 263,
   "metadata": {},
   "outputs": [
    {
     "data": {
      "text/plain": [
       "0.9182870630549623"
      ]
     },
     "execution_count": 263,
     "metadata": {},
     "output_type": "execute_result"
    }
   ],
   "source": [
    "accuracy_score(y_test, y_test_DT_Fine_TunedOS)"
   ]
  },
  {
   "cell_type": "code",
   "execution_count": 264,
   "metadata": {},
   "outputs": [
    {
     "name": "stdout",
     "output_type": "stream",
     "text": [
      "              precision    recall  f1-score   support\n",
      "\n",
      "      Bottom       1.00      1.00      1.00      4788\n",
      "Lower Middle       1.00      0.81      0.89      3089\n",
      "      Middle       0.56      0.90      0.69       826\n",
      "         Top       0.52      0.76      0.62        42\n",
      "Upper Middle       0.53      0.77      0.63       152\n",
      "\n",
      "    accuracy                           0.92      8897\n",
      "   macro avg       0.72      0.85      0.76      8897\n",
      "weighted avg       0.95      0.92      0.93      8897\n",
      "\n"
     ]
    }
   ],
   "source": [
    "print(classification_report(y_test, y_test_DT_Fine_TunedOS))"
   ]
  },
  {
   "cell_type": "code",
   "execution_count": null,
   "metadata": {},
   "outputs": [],
   "source": []
  },
  {
   "cell_type": "markdown",
   "metadata": {},
   "source": [
    "# Joblib Model Pipeline Fine Tuning DecisionTreeClassifier"
   ]
  },
  {
   "cell_type": "markdown",
   "metadata": {},
   "source": [
    "import joblib"
   ]
  },
  {
   "cell_type": "markdown",
   "metadata": {},
   "source": [
    "joblib.dump(pipeDT_Tuning, 'Model_PHL_Building_Classification_DT')"
   ]
  }
 ],
 "metadata": {
  "kernelspec": {
   "display_name": "Python 3",
   "language": "python",
   "name": "python3"
  },
  "language_info": {
   "codemirror_mode": {
    "name": "ipython",
    "version": 3
   },
   "file_extension": ".py",
   "mimetype": "text/x-python",
   "name": "python",
   "nbconvert_exporter": "python",
   "pygments_lexer": "ipython3",
   "version": "3.8.5"
  }
 },
 "nbformat": 4,
 "nbformat_minor": 4
}
