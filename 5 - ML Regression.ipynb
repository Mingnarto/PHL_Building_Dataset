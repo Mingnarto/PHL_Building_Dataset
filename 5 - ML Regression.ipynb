{
 "cells": [
  {
   "cell_type": "code",
   "execution_count": 1,
   "metadata": {},
   "outputs": [],
   "source": [
    "import numpy as np\n",
    "import pandas as pd\n",
    "import matplotlib.pyplot as plt\n",
    "import seaborn as sns\n",
    "import warnings\n",
    "warnings.filterwarnings('ignore')"
   ]
  },
  {
   "cell_type": "code",
   "execution_count": 2,
   "metadata": {},
   "outputs": [],
   "source": [
    "pd.options.display.max_columns = 999\n",
    "sns.set_style('whitegrid')\n",
    "\n",
    "# https://metadata.phila.gov/#home/datasetdetails/5543865f20583086178c4ee5/representationdetails/55d624fdad35c7e854cb21a4/"
   ]
  },
  {
   "cell_type": "code",
   "execution_count": 3,
   "metadata": {},
   "outputs": [],
   "source": [
    "from sklearn.model_selection import train_test_split, GridSearchCV, StratifiedKFold\n",
    "from sklearn.metrics import r2_score, mean_absolute_error, mean_squared_error\n",
    "\n",
    "from sklearn.compose import ColumnTransformer\n",
    "from sklearn.pipeline import Pipeline\n",
    "from sklearn.impute import SimpleImputer\n",
    "\n",
    "from sklearn.preprocessing import RobustScaler, OneHotEncoder\n",
    "\n",
    "from sklearn.neighbors import KNeighborsRegressor\n",
    "from sklearn.svm import SVR\n",
    "from sklearn.linear_model import LinearRegression, Ridge, Lasso, ElasticNet\n",
    "from sklearn.tree import DecisionTreeRegressor\n",
    "from sklearn.ensemble import RandomForestRegressor"
   ]
  },
  {
   "cell_type": "code",
   "execution_count": 4,
   "metadata": {},
   "outputs": [
    {
     "data": {
      "text/html": [
       "<div>\n",
       "<style scoped>\n",
       "    .dataframe tbody tr th:only-of-type {\n",
       "        vertical-align: middle;\n",
       "    }\n",
       "\n",
       "    .dataframe tbody tr th {\n",
       "        vertical-align: top;\n",
       "    }\n",
       "\n",
       "    .dataframe thead th {\n",
       "        text-align: right;\n",
       "    }\n",
       "</style>\n",
       "<table border=\"1\" class=\"dataframe\">\n",
       "  <thead>\n",
       "    <tr style=\"text-align: right;\">\n",
       "      <th></th>\n",
       "      <th>basements</th>\n",
       "      <th>building_code_description</th>\n",
       "      <th>central_air</th>\n",
       "      <th>depth</th>\n",
       "      <th>exterior_condition</th>\n",
       "      <th>fireplaces</th>\n",
       "      <th>frontage</th>\n",
       "      <th>garage_type</th>\n",
       "      <th>interior_condition</th>\n",
       "      <th>market_value</th>\n",
       "      <th>number_of_bathrooms</th>\n",
       "      <th>number_of_bedrooms</th>\n",
       "      <th>number_of_rooms</th>\n",
       "      <th>number_stories</th>\n",
       "      <th>parcel_shape</th>\n",
       "      <th>street_designation</th>\n",
       "      <th>topography</th>\n",
       "      <th>total_area</th>\n",
       "      <th>total_livable_area</th>\n",
       "      <th>type_heater</th>\n",
       "      <th>view_type</th>\n",
       "      <th>year_built</th>\n",
       "      <th>zoning</th>\n",
       "      <th>building_description</th>\n",
       "      <th>segment</th>\n",
       "    </tr>\n",
       "  </thead>\n",
       "  <tbody>\n",
       "    <tr>\n",
       "      <th>0</th>\n",
       "      <td>0</td>\n",
       "      <td>ROW B/GAR 2 STY MASONRY</td>\n",
       "      <td>Y</td>\n",
       "      <td>90.00</td>\n",
       "      <td>4.0</td>\n",
       "      <td>0.0</td>\n",
       "      <td>29.17</td>\n",
       "      <td>A</td>\n",
       "      <td>4.0</td>\n",
       "      <td>257500.0</td>\n",
       "      <td>2.0</td>\n",
       "      <td>3.0</td>\n",
       "      <td>6.0</td>\n",
       "      <td>2.0</td>\n",
       "      <td>E</td>\n",
       "      <td>ST</td>\n",
       "      <td>6</td>\n",
       "      <td>2625.30</td>\n",
       "      <td>1266.0</td>\n",
       "      <td>H</td>\n",
       "      <td>I</td>\n",
       "      <td>1960.0</td>\n",
       "      <td>1</td>\n",
       "      <td>MASONRY</td>\n",
       "      <td>2</td>\n",
       "    </tr>\n",
       "    <tr>\n",
       "      <th>1</th>\n",
       "      <td>0</td>\n",
       "      <td>ROW B/GAR 2 STY MASONRY</td>\n",
       "      <td>Y</td>\n",
       "      <td>90.00</td>\n",
       "      <td>4.0</td>\n",
       "      <td>0.0</td>\n",
       "      <td>18.03</td>\n",
       "      <td>A</td>\n",
       "      <td>4.0</td>\n",
       "      <td>249400.0</td>\n",
       "      <td>2.0</td>\n",
       "      <td>3.0</td>\n",
       "      <td>6.0</td>\n",
       "      <td>2.0</td>\n",
       "      <td>E</td>\n",
       "      <td>ST</td>\n",
       "      <td>6</td>\n",
       "      <td>1622.70</td>\n",
       "      <td>1266.0</td>\n",
       "      <td>A</td>\n",
       "      <td>I</td>\n",
       "      <td>1960.0</td>\n",
       "      <td>1</td>\n",
       "      <td>MASONRY</td>\n",
       "      <td>2</td>\n",
       "    </tr>\n",
       "    <tr>\n",
       "      <th>2</th>\n",
       "      <td>0</td>\n",
       "      <td>ROW B/GAR 2 STY MASONRY</td>\n",
       "      <td>Y</td>\n",
       "      <td>90.00</td>\n",
       "      <td>4.0</td>\n",
       "      <td>0.0</td>\n",
       "      <td>18.05</td>\n",
       "      <td>A</td>\n",
       "      <td>4.0</td>\n",
       "      <td>249500.0</td>\n",
       "      <td>2.0</td>\n",
       "      <td>3.0</td>\n",
       "      <td>6.0</td>\n",
       "      <td>2.0</td>\n",
       "      <td>E</td>\n",
       "      <td>ST</td>\n",
       "      <td>6</td>\n",
       "      <td>1624.50</td>\n",
       "      <td>1266.0</td>\n",
       "      <td>A</td>\n",
       "      <td>I</td>\n",
       "      <td>1960.0</td>\n",
       "      <td>1</td>\n",
       "      <td>MASONRY</td>\n",
       "      <td>2</td>\n",
       "    </tr>\n",
       "    <tr>\n",
       "      <th>3</th>\n",
       "      <td>0</td>\n",
       "      <td>ROW B/GAR 2 STY MASONRY</td>\n",
       "      <td>Y</td>\n",
       "      <td>90.00</td>\n",
       "      <td>4.0</td>\n",
       "      <td>0.0</td>\n",
       "      <td>18.08</td>\n",
       "      <td>A</td>\n",
       "      <td>4.0</td>\n",
       "      <td>249500.0</td>\n",
       "      <td>2.0</td>\n",
       "      <td>3.0</td>\n",
       "      <td>6.0</td>\n",
       "      <td>2.0</td>\n",
       "      <td>E</td>\n",
       "      <td>ST</td>\n",
       "      <td>6</td>\n",
       "      <td>1627.20</td>\n",
       "      <td>1266.0</td>\n",
       "      <td>H</td>\n",
       "      <td>I</td>\n",
       "      <td>1960.0</td>\n",
       "      <td>1</td>\n",
       "      <td>MASONRY</td>\n",
       "      <td>2</td>\n",
       "    </tr>\n",
       "    <tr>\n",
       "      <th>4</th>\n",
       "      <td>0</td>\n",
       "      <td>ROW B/GAR 2 STY MASONRY</td>\n",
       "      <td>Y</td>\n",
       "      <td>90.00</td>\n",
       "      <td>4.0</td>\n",
       "      <td>0.0</td>\n",
       "      <td>18.71</td>\n",
       "      <td>A</td>\n",
       "      <td>4.0</td>\n",
       "      <td>253800.0</td>\n",
       "      <td>2.0</td>\n",
       "      <td>3.0</td>\n",
       "      <td>6.0</td>\n",
       "      <td>2.0</td>\n",
       "      <td>E</td>\n",
       "      <td>ST</td>\n",
       "      <td>6</td>\n",
       "      <td>1683.90</td>\n",
       "      <td>1310.0</td>\n",
       "      <td>H</td>\n",
       "      <td>I</td>\n",
       "      <td>1960.0</td>\n",
       "      <td>1</td>\n",
       "      <td>MASONRY</td>\n",
       "      <td>2</td>\n",
       "    </tr>\n",
       "    <tr>\n",
       "      <th>...</th>\n",
       "      <td>...</td>\n",
       "      <td>...</td>\n",
       "      <td>...</td>\n",
       "      <td>...</td>\n",
       "      <td>...</td>\n",
       "      <td>...</td>\n",
       "      <td>...</td>\n",
       "      <td>...</td>\n",
       "      <td>...</td>\n",
       "      <td>...</td>\n",
       "      <td>...</td>\n",
       "      <td>...</td>\n",
       "      <td>...</td>\n",
       "      <td>...</td>\n",
       "      <td>...</td>\n",
       "      <td>...</td>\n",
       "      <td>...</td>\n",
       "      <td>...</td>\n",
       "      <td>...</td>\n",
       "      <td>...</td>\n",
       "      <td>...</td>\n",
       "      <td>...</td>\n",
       "      <td>...</td>\n",
       "      <td>...</td>\n",
       "      <td>...</td>\n",
       "    </tr>\n",
       "    <tr>\n",
       "      <th>44479</th>\n",
       "      <td>D</td>\n",
       "      <td>ROW 3 STY MASONRY</td>\n",
       "      <td>N</td>\n",
       "      <td>100.00</td>\n",
       "      <td>4.0</td>\n",
       "      <td>0.0</td>\n",
       "      <td>21.87</td>\n",
       "      <td>0</td>\n",
       "      <td>4.0</td>\n",
       "      <td>117500.0</td>\n",
       "      <td>0.0</td>\n",
       "      <td>3.0</td>\n",
       "      <td>6.0</td>\n",
       "      <td>3.0</td>\n",
       "      <td>A</td>\n",
       "      <td>ST</td>\n",
       "      <td>6</td>\n",
       "      <td>1651.00</td>\n",
       "      <td>2907.0</td>\n",
       "      <td>H</td>\n",
       "      <td>I</td>\n",
       "      <td>1929.0</td>\n",
       "      <td>1</td>\n",
       "      <td>MASONRY</td>\n",
       "      <td>1</td>\n",
       "    </tr>\n",
       "    <tr>\n",
       "      <th>44480</th>\n",
       "      <td>D</td>\n",
       "      <td>ROW 2 STY MASONRY</td>\n",
       "      <td>Y</td>\n",
       "      <td>102.19</td>\n",
       "      <td>3.0</td>\n",
       "      <td>0.0</td>\n",
       "      <td>18.24</td>\n",
       "      <td>0</td>\n",
       "      <td>3.0</td>\n",
       "      <td>70800.0</td>\n",
       "      <td>2.0</td>\n",
       "      <td>3.0</td>\n",
       "      <td>9.0</td>\n",
       "      <td>3.0</td>\n",
       "      <td>A</td>\n",
       "      <td>ST</td>\n",
       "      <td>6</td>\n",
       "      <td>1811.00</td>\n",
       "      <td>2026.0</td>\n",
       "      <td>A</td>\n",
       "      <td>I</td>\n",
       "      <td>2005.0</td>\n",
       "      <td>1</td>\n",
       "      <td>MASONRY</td>\n",
       "      <td>1</td>\n",
       "    </tr>\n",
       "    <tr>\n",
       "      <th>44481</th>\n",
       "      <td>D</td>\n",
       "      <td>ROW 3 STY MASONRY</td>\n",
       "      <td>Y</td>\n",
       "      <td>103.26</td>\n",
       "      <td>3.0</td>\n",
       "      <td>0.0</td>\n",
       "      <td>16.00</td>\n",
       "      <td>0</td>\n",
       "      <td>3.0</td>\n",
       "      <td>23600.0</td>\n",
       "      <td>1.0</td>\n",
       "      <td>3.0</td>\n",
       "      <td>6.0</td>\n",
       "      <td>3.0</td>\n",
       "      <td>A</td>\n",
       "      <td>ST</td>\n",
       "      <td>6</td>\n",
       "      <td>1604.00</td>\n",
       "      <td>2082.0</td>\n",
       "      <td>A</td>\n",
       "      <td>I</td>\n",
       "      <td>2005.0</td>\n",
       "      <td>1</td>\n",
       "      <td>MASONRY</td>\n",
       "      <td>1</td>\n",
       "    </tr>\n",
       "    <tr>\n",
       "      <th>44482</th>\n",
       "      <td>D</td>\n",
       "      <td>ROW 3 STY MASONRY</td>\n",
       "      <td>Y</td>\n",
       "      <td>90.00</td>\n",
       "      <td>3.0</td>\n",
       "      <td>0.0</td>\n",
       "      <td>16.00</td>\n",
       "      <td>0</td>\n",
       "      <td>3.0</td>\n",
       "      <td>23600.0</td>\n",
       "      <td>1.0</td>\n",
       "      <td>3.0</td>\n",
       "      <td>6.0</td>\n",
       "      <td>3.0</td>\n",
       "      <td>E</td>\n",
       "      <td>ST</td>\n",
       "      <td>6</td>\n",
       "      <td>1440.00</td>\n",
       "      <td>1387.0</td>\n",
       "      <td>A</td>\n",
       "      <td>I</td>\n",
       "      <td>2005.0</td>\n",
       "      <td>1</td>\n",
       "      <td>MASONRY</td>\n",
       "      <td>1</td>\n",
       "    </tr>\n",
       "    <tr>\n",
       "      <th>44483</th>\n",
       "      <td>A</td>\n",
       "      <td>RES CONDO 2 STY MAS+OTH</td>\n",
       "      <td>Y</td>\n",
       "      <td>215.42</td>\n",
       "      <td>3.0</td>\n",
       "      <td>0.0</td>\n",
       "      <td>39.26</td>\n",
       "      <td>B</td>\n",
       "      <td>3.0</td>\n",
       "      <td>600000.0</td>\n",
       "      <td>3.0</td>\n",
       "      <td>4.0</td>\n",
       "      <td>8.0</td>\n",
       "      <td>2.0</td>\n",
       "      <td>A</td>\n",
       "      <td>AVE</td>\n",
       "      <td>6</td>\n",
       "      <td>8457.99</td>\n",
       "      <td>2851.0</td>\n",
       "      <td>A</td>\n",
       "      <td>I</td>\n",
       "      <td>2006.0</td>\n",
       "      <td>3</td>\n",
       "      <td>MASONRY+OTHER</td>\n",
       "      <td>4</td>\n",
       "    </tr>\n",
       "  </tbody>\n",
       "</table>\n",
       "<p>44484 rows × 25 columns</p>\n",
       "</div>"
      ],
      "text/plain": [
       "      basements building_code_description central_air   depth  \\\n",
       "0             0   ROW B/GAR 2 STY MASONRY           Y   90.00   \n",
       "1             0   ROW B/GAR 2 STY MASONRY           Y   90.00   \n",
       "2             0   ROW B/GAR 2 STY MASONRY           Y   90.00   \n",
       "3             0   ROW B/GAR 2 STY MASONRY           Y   90.00   \n",
       "4             0   ROW B/GAR 2 STY MASONRY           Y   90.00   \n",
       "...         ...                       ...         ...     ...   \n",
       "44479         D         ROW 3 STY MASONRY           N  100.00   \n",
       "44480         D         ROW 2 STY MASONRY           Y  102.19   \n",
       "44481         D         ROW 3 STY MASONRY           Y  103.26   \n",
       "44482         D         ROW 3 STY MASONRY           Y   90.00   \n",
       "44483         A   RES CONDO 2 STY MAS+OTH           Y  215.42   \n",
       "\n",
       "       exterior_condition  fireplaces  frontage garage_type  \\\n",
       "0                     4.0         0.0     29.17           A   \n",
       "1                     4.0         0.0     18.03           A   \n",
       "2                     4.0         0.0     18.05           A   \n",
       "3                     4.0         0.0     18.08           A   \n",
       "4                     4.0         0.0     18.71           A   \n",
       "...                   ...         ...       ...         ...   \n",
       "44479                 4.0         0.0     21.87           0   \n",
       "44480                 3.0         0.0     18.24           0   \n",
       "44481                 3.0         0.0     16.00           0   \n",
       "44482                 3.0         0.0     16.00           0   \n",
       "44483                 3.0         0.0     39.26           B   \n",
       "\n",
       "       interior_condition  market_value  number_of_bathrooms  \\\n",
       "0                     4.0      257500.0                  2.0   \n",
       "1                     4.0      249400.0                  2.0   \n",
       "2                     4.0      249500.0                  2.0   \n",
       "3                     4.0      249500.0                  2.0   \n",
       "4                     4.0      253800.0                  2.0   \n",
       "...                   ...           ...                  ...   \n",
       "44479                 4.0      117500.0                  0.0   \n",
       "44480                 3.0       70800.0                  2.0   \n",
       "44481                 3.0       23600.0                  1.0   \n",
       "44482                 3.0       23600.0                  1.0   \n",
       "44483                 3.0      600000.0                  3.0   \n",
       "\n",
       "       number_of_bedrooms  number_of_rooms  number_stories parcel_shape  \\\n",
       "0                     3.0              6.0             2.0            E   \n",
       "1                     3.0              6.0             2.0            E   \n",
       "2                     3.0              6.0             2.0            E   \n",
       "3                     3.0              6.0             2.0            E   \n",
       "4                     3.0              6.0             2.0            E   \n",
       "...                   ...              ...             ...          ...   \n",
       "44479                 3.0              6.0             3.0            A   \n",
       "44480                 3.0              9.0             3.0            A   \n",
       "44481                 3.0              6.0             3.0            A   \n",
       "44482                 3.0              6.0             3.0            E   \n",
       "44483                 4.0              8.0             2.0            A   \n",
       "\n",
       "      street_designation  topography  total_area  total_livable_area  \\\n",
       "0                    ST            6     2625.30              1266.0   \n",
       "1                    ST            6     1622.70              1266.0   \n",
       "2                    ST            6     1624.50              1266.0   \n",
       "3                    ST            6     1627.20              1266.0   \n",
       "4                    ST            6     1683.90              1310.0   \n",
       "...                  ...         ...         ...                 ...   \n",
       "44479                ST            6     1651.00              2907.0   \n",
       "44480                ST            6     1811.00              2026.0   \n",
       "44481                ST            6     1604.00              2082.0   \n",
       "44482                ST            6     1440.00              1387.0   \n",
       "44483                AVE           6     8457.99              2851.0   \n",
       "\n",
       "      type_heater view_type  year_built  zoning building_description  segment  \n",
       "0               H         I      1960.0       1              MASONRY        2  \n",
       "1               A         I      1960.0       1              MASONRY        2  \n",
       "2               A         I      1960.0       1              MASONRY        2  \n",
       "3               H         I      1960.0       1              MASONRY        2  \n",
       "4               H         I      1960.0       1              MASONRY        2  \n",
       "...           ...       ...         ...     ...                  ...      ...  \n",
       "44479           H         I      1929.0       1              MASONRY        1  \n",
       "44480           A         I      2005.0       1              MASONRY        1  \n",
       "44481           A         I      2005.0       1              MASONRY        1  \n",
       "44482           A         I      2005.0       1              MASONRY        1  \n",
       "44483           A         I      2006.0       3        MASONRY+OTHER        4  \n",
       "\n",
       "[44484 rows x 25 columns]"
      ]
     },
     "execution_count": 4,
     "metadata": {},
     "output_type": "execute_result"
    }
   ],
   "source": [
    "df = pd.read_csv('PHL_Building_Dataset_ML_Regression.csv')\n",
    "df = df.drop(columns=['Unnamed: 0'])\n",
    "df"
   ]
  },
  {
   "cell_type": "code",
   "execution_count": 5,
   "metadata": {},
   "outputs": [],
   "source": [
    "# Rename Segment\n",
    "df['segment'] = df['segment'].replace({1:'Bottom', 2:'Lower Middle', 3:'Middle', 4:'Upper Middle', 5:'Top'})"
   ]
  },
  {
   "cell_type": "markdown",
   "metadata": {},
   "source": [
    "# Splitting Data"
   ]
  },
  {
   "cell_type": "code",
   "execution_count": 6,
   "metadata": {},
   "outputs": [],
   "source": [
    "X = df.drop(columns=['building_code_description', 'market_value'])\n",
    "y = df['market_value']"
   ]
  },
  {
   "cell_type": "code",
   "execution_count": 7,
   "metadata": {},
   "outputs": [],
   "source": [
    "X_train, X_test, y_train, y_test = train_test_split(X, y, test_size = 0.2, random_state = 42)"
   ]
  },
  {
   "cell_type": "markdown",
   "metadata": {},
   "source": [
    "# Evaluation Matrix"
   ]
  },
  {
   "cell_type": "code",
   "execution_count": 8,
   "metadata": {},
   "outputs": [],
   "source": [
    "# Evaluation Matrix Regression\n",
    "def Eva_Matrix(Model, X_train, y_train, X_test, y_test, Name):\n",
    "    y_pred_train = Model.predict(X_train)\n",
    "    r2_train = r2_score(y_train, y_pred_train)\n",
    "    mae_train = mean_absolute_error(y_train, y_pred_train)\n",
    "    mse_train = mean_squared_error(y_train, y_pred_train)\n",
    "    rmse_train = np.sqrt(mse_train)\n",
    "    y_pred_test = Model.predict(X_test)\n",
    "    r2_test = r2_score(y_test, y_pred_test)\n",
    "    mae_test = mean_absolute_error(y_test, y_pred_test)\n",
    "    mse_test = mean_squared_error(y_test, y_pred_test)\n",
    "    rmse_test = np.sqrt(mse_test)\n",
    "    data = {\n",
    "        f\"Training {Name}\" : [r2_train, mae_train, mse_train, rmse_train],\n",
    "        f\"Test {Name}\" : [r2_test, mae_test, mse_test, rmse_test]\n",
    "    }\n",
    "    df = pd.DataFrame(data=data, index=['R2', 'MAE', 'MSE', 'RMSE'])\n",
    "    return df"
   ]
  },
  {
   "cell_type": "markdown",
   "metadata": {},
   "source": [
    "# Pipeline"
   ]
  },
  {
   "cell_type": "code",
   "execution_count": 298,
   "metadata": {},
   "outputs": [],
   "source": [
    "num_columns = ['fireplaces', 'number_of_rooms', 'number_stories', 'total_area', \n",
    "               'total_livable_area']\n",
    "\n",
    "cat_columns = ['basements', 'central_air', 'exterior_condition', 'garage_type',\n",
    "               'interior_condition', 'parcel_shape', 'street_designation', 'topography',\n",
    "               'type_heater', 'view_type', 'building_description']\n",
    "\n",
    "numeric_pipeline = Pipeline([\n",
    "    ('imputer', SimpleImputer(strategy='mean')),\n",
    "    ('scaler', RobustScaler()),\n",
    "    #('poly', PolynomialFeatures(degree=3, include_bias=False)),\n",
    "    #('power', PowerTransformer(method='yeo-johnson'))\n",
    "])\n",
    "\n",
    "categoric_pipeline = Pipeline([\n",
    "    ('imputer', SimpleImputer(strategy='most_frequent')),\n",
    "    ('encoder', OneHotEncoder())\n",
    "])\n",
    "\n",
    "preprocessor = ColumnTransformer([\n",
    "    ('numeric', numeric_pipeline, num_columns),\n",
    "    ('categoric', categoric_pipeline, cat_columns)\n",
    "])\n",
    "\n",
    "pipeSVM = Pipeline([\n",
    "    (\"prep\", preprocessor),\n",
    "    (\"algo\", SVR(max_iter=400))\n",
    "])\n",
    "\n",
    "pipeLR = Pipeline([\n",
    "    (\"prep\", preprocessor),\n",
    "    (\"algo\", LinearRegression())\n",
    "])\n",
    "\n",
    "pipeLasso = Pipeline([\n",
    "    (\"prep\", preprocessor),\n",
    "    (\"algo\", Lasso())\n",
    "])\n",
    "\n",
    "pipeRidge = Pipeline([\n",
    "    (\"prep\", preprocessor),\n",
    "    (\"algo\", Ridge())\n",
    "])\n",
    "\n",
    "pipeElasticNet = Pipeline([\n",
    "    (\"prep\", preprocessor),\n",
    "    (\"algo\", ElasticNet())\n",
    "])\n",
    "\n",
    "pipeKNN = Pipeline([\n",
    "    (\"prep\", preprocessor),\n",
    "    (\"algo\", KNeighborsRegressor())\n",
    "])\n",
    "               \n",
    "pipeDT = Pipeline([\n",
    "    (\"prep\", preprocessor),\n",
    "    (\"algo\", DecisionTreeRegressor())\n",
    "])\n",
    "            \n",
    "pipeRF = Pipeline([\n",
    "    (\"prep\", preprocessor),\n",
    "    (\"algo\", RandomForestRegressor())\n",
    "])"
   ]
  },
  {
   "cell_type": "markdown",
   "metadata": {},
   "source": [
    "# Base Model KNN"
   ]
  },
  {
   "cell_type": "code",
   "execution_count": 10,
   "metadata": {},
   "outputs": [
    {
     "data": {
      "text/plain": [
       "Pipeline(steps=[('prep',\n",
       "                 ColumnTransformer(transformers=[('numeric',\n",
       "                                                  Pipeline(steps=[('imputer',\n",
       "                                                                   SimpleImputer())]),\n",
       "                                                  ['fireplaces',\n",
       "                                                   'number_of_rooms',\n",
       "                                                   'number_stories',\n",
       "                                                   'total_area',\n",
       "                                                   'total_livable_area']),\n",
       "                                                 ('categoric',\n",
       "                                                  Pipeline(steps=[('imputer',\n",
       "                                                                   SimpleImputer(strategy='most_frequent')),\n",
       "                                                                  ('encoder',\n",
       "                                                                   OneHotEncoder())]),\n",
       "                                                  ['basements', 'central_air',\n",
       "                                                   'exterior_condition',\n",
       "                                                   'garage_type',\n",
       "                                                   'interior_condition',\n",
       "                                                   'parcel_shape',\n",
       "                                                   'street_designation',\n",
       "                                                   'topography', 'type_heater',\n",
       "                                                   'view_type',\n",
       "                                                   'building_description'])])),\n",
       "                ('algo', KNeighborsRegressor())])"
      ]
     },
     "execution_count": 10,
     "metadata": {},
     "output_type": "execute_result"
    }
   ],
   "source": [
    "pipeKNN.fit(X_train, y_train)"
   ]
  },
  {
   "cell_type": "code",
   "execution_count": 11,
   "metadata": {},
   "outputs": [],
   "source": [
    "y_KNN_test = pipeKNN.predict(X_test)"
   ]
  },
  {
   "cell_type": "code",
   "execution_count": 12,
   "metadata": {},
   "outputs": [
    {
     "data": {
      "text/html": [
       "<div>\n",
       "<style scoped>\n",
       "    .dataframe tbody tr th:only-of-type {\n",
       "        vertical-align: middle;\n",
       "    }\n",
       "\n",
       "    .dataframe tbody tr th {\n",
       "        vertical-align: top;\n",
       "    }\n",
       "\n",
       "    .dataframe thead th {\n",
       "        text-align: right;\n",
       "    }\n",
       "</style>\n",
       "<table border=\"1\" class=\"dataframe\">\n",
       "  <thead>\n",
       "    <tr style=\"text-align: right;\">\n",
       "      <th></th>\n",
       "      <th>Training Pipeline KNN</th>\n",
       "      <th>Test Pipeline KNN</th>\n",
       "    </tr>\n",
       "  </thead>\n",
       "  <tbody>\n",
       "    <tr>\n",
       "      <th>R2</th>\n",
       "      <td>7.648403e-01</td>\n",
       "      <td>6.382117e-01</td>\n",
       "    </tr>\n",
       "    <tr>\n",
       "      <th>MAE</th>\n",
       "      <td>3.103323e+04</td>\n",
       "      <td>4.092095e+04</td>\n",
       "    </tr>\n",
       "    <tr>\n",
       "      <th>MSE</th>\n",
       "      <td>4.277652e+09</td>\n",
       "      <td>7.529401e+09</td>\n",
       "    </tr>\n",
       "    <tr>\n",
       "      <th>RMSE</th>\n",
       "      <td>6.540376e+04</td>\n",
       "      <td>8.677212e+04</td>\n",
       "    </tr>\n",
       "  </tbody>\n",
       "</table>\n",
       "</div>"
      ],
      "text/plain": [
       "      Training Pipeline KNN  Test Pipeline KNN\n",
       "R2             7.648403e-01       6.382117e-01\n",
       "MAE            3.103323e+04       4.092095e+04\n",
       "MSE            4.277652e+09       7.529401e+09\n",
       "RMSE           6.540376e+04       8.677212e+04"
      ]
     },
     "execution_count": 12,
     "metadata": {},
     "output_type": "execute_result"
    }
   ],
   "source": [
    "df_KNN = Eva_Matrix(pipeKNN, X_train, y_train, X_test, y_test, \"Pipeline KNN\")\n",
    "df_KNN"
   ]
  },
  {
   "cell_type": "markdown",
   "metadata": {},
   "source": [
    "# Base Model Linear Regression"
   ]
  },
  {
   "cell_type": "code",
   "execution_count": 13,
   "metadata": {},
   "outputs": [
    {
     "data": {
      "text/plain": [
       "Pipeline(steps=[('prep',\n",
       "                 ColumnTransformer(transformers=[('numeric',\n",
       "                                                  Pipeline(steps=[('imputer',\n",
       "                                                                   SimpleImputer())]),\n",
       "                                                  ['fireplaces',\n",
       "                                                   'number_of_rooms',\n",
       "                                                   'number_stories',\n",
       "                                                   'total_area',\n",
       "                                                   'total_livable_area']),\n",
       "                                                 ('categoric',\n",
       "                                                  Pipeline(steps=[('imputer',\n",
       "                                                                   SimpleImputer(strategy='most_frequent')),\n",
       "                                                                  ('encoder',\n",
       "                                                                   OneHotEncoder())]),\n",
       "                                                  ['basements', 'central_air',\n",
       "                                                   'exterior_condition',\n",
       "                                                   'garage_type',\n",
       "                                                   'interior_condition',\n",
       "                                                   'parcel_shape',\n",
       "                                                   'street_designation',\n",
       "                                                   'topography', 'type_heater',\n",
       "                                                   'view_type',\n",
       "                                                   'building_description'])])),\n",
       "                ('algo', LinearRegression())])"
      ]
     },
     "execution_count": 13,
     "metadata": {},
     "output_type": "execute_result"
    }
   ],
   "source": [
    "pipeLR.fit(X_train, y_train)"
   ]
  },
  {
   "cell_type": "code",
   "execution_count": 14,
   "metadata": {},
   "outputs": [],
   "source": [
    "y_LR_test = pipeLR.predict(X_test)"
   ]
  },
  {
   "cell_type": "code",
   "execution_count": 15,
   "metadata": {},
   "outputs": [
    {
     "data": {
      "text/html": [
       "<div>\n",
       "<style scoped>\n",
       "    .dataframe tbody tr th:only-of-type {\n",
       "        vertical-align: middle;\n",
       "    }\n",
       "\n",
       "    .dataframe tbody tr th {\n",
       "        vertical-align: top;\n",
       "    }\n",
       "\n",
       "    .dataframe thead th {\n",
       "        text-align: right;\n",
       "    }\n",
       "</style>\n",
       "<table border=\"1\" class=\"dataframe\">\n",
       "  <thead>\n",
       "    <tr style=\"text-align: right;\">\n",
       "      <th></th>\n",
       "      <th>Training Pipeline LR</th>\n",
       "      <th>Test Pipeline LR</th>\n",
       "    </tr>\n",
       "  </thead>\n",
       "  <tbody>\n",
       "    <tr>\n",
       "      <th>R2</th>\n",
       "      <td>7.518020e-01</td>\n",
       "      <td>7.528840e-01</td>\n",
       "    </tr>\n",
       "    <tr>\n",
       "      <th>MAE</th>\n",
       "      <td>4.124612e+04</td>\n",
       "      <td>4.254337e+04</td>\n",
       "    </tr>\n",
       "    <tr>\n",
       "      <th>MSE</th>\n",
       "      <td>4.514825e+09</td>\n",
       "      <td>5.142883e+09</td>\n",
       "    </tr>\n",
       "    <tr>\n",
       "      <th>RMSE</th>\n",
       "      <td>6.719245e+04</td>\n",
       "      <td>7.171390e+04</td>\n",
       "    </tr>\n",
       "  </tbody>\n",
       "</table>\n",
       "</div>"
      ],
      "text/plain": [
       "      Training Pipeline LR  Test Pipeline LR\n",
       "R2            7.518020e-01      7.528840e-01\n",
       "MAE           4.124612e+04      4.254337e+04\n",
       "MSE           4.514825e+09      5.142883e+09\n",
       "RMSE          6.719245e+04      7.171390e+04"
      ]
     },
     "execution_count": 15,
     "metadata": {},
     "output_type": "execute_result"
    }
   ],
   "source": [
    "df_LR = Eva_Matrix(pipeLR, X_train, y_train, X_test, y_test, \"Pipeline LR\")\n",
    "df_LR"
   ]
  },
  {
   "cell_type": "markdown",
   "metadata": {},
   "source": [
    "# Base Model Ridge"
   ]
  },
  {
   "cell_type": "code",
   "execution_count": 16,
   "metadata": {},
   "outputs": [
    {
     "data": {
      "text/plain": [
       "Pipeline(steps=[('prep',\n",
       "                 ColumnTransformer(transformers=[('numeric',\n",
       "                                                  Pipeline(steps=[('imputer',\n",
       "                                                                   SimpleImputer())]),\n",
       "                                                  ['fireplaces',\n",
       "                                                   'number_of_rooms',\n",
       "                                                   'number_stories',\n",
       "                                                   'total_area',\n",
       "                                                   'total_livable_area']),\n",
       "                                                 ('categoric',\n",
       "                                                  Pipeline(steps=[('imputer',\n",
       "                                                                   SimpleImputer(strategy='most_frequent')),\n",
       "                                                                  ('encoder',\n",
       "                                                                   OneHotEncoder())]),\n",
       "                                                  ['basements', 'central_air',\n",
       "                                                   'exterior_condition',\n",
       "                                                   'garage_type',\n",
       "                                                   'interior_condition',\n",
       "                                                   'parcel_shape',\n",
       "                                                   'street_designation',\n",
       "                                                   'topography', 'type_heater',\n",
       "                                                   'view_type',\n",
       "                                                   'building_description'])])),\n",
       "                ('algo', Ridge())])"
      ]
     },
     "execution_count": 16,
     "metadata": {},
     "output_type": "execute_result"
    }
   ],
   "source": [
    "pipeRidge.fit(X_train, y_train)"
   ]
  },
  {
   "cell_type": "code",
   "execution_count": 17,
   "metadata": {},
   "outputs": [],
   "source": [
    "y_Ridge_test = pipeRidge.predict(X_test)"
   ]
  },
  {
   "cell_type": "code",
   "execution_count": 18,
   "metadata": {},
   "outputs": [
    {
     "data": {
      "text/html": [
       "<div>\n",
       "<style scoped>\n",
       "    .dataframe tbody tr th:only-of-type {\n",
       "        vertical-align: middle;\n",
       "    }\n",
       "\n",
       "    .dataframe tbody tr th {\n",
       "        vertical-align: top;\n",
       "    }\n",
       "\n",
       "    .dataframe thead th {\n",
       "        text-align: right;\n",
       "    }\n",
       "</style>\n",
       "<table border=\"1\" class=\"dataframe\">\n",
       "  <thead>\n",
       "    <tr style=\"text-align: right;\">\n",
       "      <th></th>\n",
       "      <th>Training Pipeline Ridge</th>\n",
       "      <th>Test Pipeline Ridge</th>\n",
       "    </tr>\n",
       "  </thead>\n",
       "  <tbody>\n",
       "    <tr>\n",
       "      <th>R2</th>\n",
       "      <td>6.237616e-01</td>\n",
       "      <td>6.369530e-01</td>\n",
       "    </tr>\n",
       "    <tr>\n",
       "      <th>MAE</th>\n",
       "      <td>5.384231e+04</td>\n",
       "      <td>5.541533e+04</td>\n",
       "    </tr>\n",
       "    <tr>\n",
       "      <th>MSE</th>\n",
       "      <td>6.843932e+09</td>\n",
       "      <td>7.555597e+09</td>\n",
       "    </tr>\n",
       "    <tr>\n",
       "      <th>RMSE</th>\n",
       "      <td>8.272806e+04</td>\n",
       "      <td>8.692293e+04</td>\n",
       "    </tr>\n",
       "  </tbody>\n",
       "</table>\n",
       "</div>"
      ],
      "text/plain": [
       "      Training Pipeline Ridge  Test Pipeline Ridge\n",
       "R2               6.237616e-01         6.369530e-01\n",
       "MAE              5.384231e+04         5.541533e+04\n",
       "MSE              6.843932e+09         7.555597e+09\n",
       "RMSE             8.272806e+04         8.692293e+04"
      ]
     },
     "execution_count": 18,
     "metadata": {},
     "output_type": "execute_result"
    }
   ],
   "source": [
    "df_Ridge = Eva_Matrix(pipeRidge, X_train, y_train, X_test, y_test, \"Pipeline Ridge\")\n",
    "df_Ridge"
   ]
  },
  {
   "cell_type": "markdown",
   "metadata": {},
   "source": [
    "# Base Model Lasso"
   ]
  },
  {
   "cell_type": "code",
   "execution_count": 19,
   "metadata": {},
   "outputs": [
    {
     "data": {
      "text/plain": [
       "Pipeline(steps=[('prep',\n",
       "                 ColumnTransformer(transformers=[('numeric',\n",
       "                                                  Pipeline(steps=[('imputer',\n",
       "                                                                   SimpleImputer())]),\n",
       "                                                  ['fireplaces',\n",
       "                                                   'number_of_rooms',\n",
       "                                                   'number_stories',\n",
       "                                                   'total_area',\n",
       "                                                   'total_livable_area']),\n",
       "                                                 ('categoric',\n",
       "                                                  Pipeline(steps=[('imputer',\n",
       "                                                                   SimpleImputer(strategy='most_frequent')),\n",
       "                                                                  ('encoder',\n",
       "                                                                   OneHotEncoder())]),\n",
       "                                                  ['basements', 'central_air',\n",
       "                                                   'exterior_condition',\n",
       "                                                   'garage_type',\n",
       "                                                   'interior_condition',\n",
       "                                                   'parcel_shape',\n",
       "                                                   'street_designation',\n",
       "                                                   'topography', 'type_heater',\n",
       "                                                   'view_type',\n",
       "                                                   'building_description'])])),\n",
       "                ('algo', Lasso())])"
      ]
     },
     "execution_count": 19,
     "metadata": {},
     "output_type": "execute_result"
    }
   ],
   "source": [
    "pipeLasso.fit(X_train, y_train)"
   ]
  },
  {
   "cell_type": "code",
   "execution_count": 20,
   "metadata": {},
   "outputs": [],
   "source": [
    "y_Lasso_test = pipeLasso.predict(X_test)"
   ]
  },
  {
   "cell_type": "code",
   "execution_count": 21,
   "metadata": {},
   "outputs": [
    {
     "data": {
      "text/html": [
       "<div>\n",
       "<style scoped>\n",
       "    .dataframe tbody tr th:only-of-type {\n",
       "        vertical-align: middle;\n",
       "    }\n",
       "\n",
       "    .dataframe tbody tr th {\n",
       "        vertical-align: top;\n",
       "    }\n",
       "\n",
       "    .dataframe thead th {\n",
       "        text-align: right;\n",
       "    }\n",
       "</style>\n",
       "<table border=\"1\" class=\"dataframe\">\n",
       "  <thead>\n",
       "    <tr style=\"text-align: right;\">\n",
       "      <th></th>\n",
       "      <th>Training Pipeline Lasso</th>\n",
       "      <th>Test Pipeline Lasso</th>\n",
       "    </tr>\n",
       "  </thead>\n",
       "  <tbody>\n",
       "    <tr>\n",
       "      <th>R2</th>\n",
       "      <td>7.518380e-01</td>\n",
       "      <td>7.531919e-01</td>\n",
       "    </tr>\n",
       "    <tr>\n",
       "      <th>MAE</th>\n",
       "      <td>4.124244e+04</td>\n",
       "      <td>4.251425e+04</td>\n",
       "    </tr>\n",
       "    <tr>\n",
       "      <th>MSE</th>\n",
       "      <td>4.514169e+09</td>\n",
       "      <td>5.136477e+09</td>\n",
       "    </tr>\n",
       "    <tr>\n",
       "      <th>RMSE</th>\n",
       "      <td>6.718757e+04</td>\n",
       "      <td>7.166922e+04</td>\n",
       "    </tr>\n",
       "  </tbody>\n",
       "</table>\n",
       "</div>"
      ],
      "text/plain": [
       "      Training Pipeline Lasso  Test Pipeline Lasso\n",
       "R2               7.518380e-01         7.531919e-01\n",
       "MAE              4.124244e+04         4.251425e+04\n",
       "MSE              4.514169e+09         5.136477e+09\n",
       "RMSE             6.718757e+04         7.166922e+04"
      ]
     },
     "execution_count": 21,
     "metadata": {},
     "output_type": "execute_result"
    }
   ],
   "source": [
    "df_Lasso = Eva_Matrix(pipeLasso, X_train, y_train, X_test, y_test, \"Pipeline Lasso\")\n",
    "df_Lasso"
   ]
  },
  {
   "cell_type": "markdown",
   "metadata": {},
   "source": [
    "# Base Model ElasticNet"
   ]
  },
  {
   "cell_type": "code",
   "execution_count": 22,
   "metadata": {},
   "outputs": [
    {
     "data": {
      "text/plain": [
       "Pipeline(steps=[('prep',\n",
       "                 ColumnTransformer(transformers=[('numeric',\n",
       "                                                  Pipeline(steps=[('imputer',\n",
       "                                                                   SimpleImputer())]),\n",
       "                                                  ['fireplaces',\n",
       "                                                   'number_of_rooms',\n",
       "                                                   'number_stories',\n",
       "                                                   'total_area',\n",
       "                                                   'total_livable_area']),\n",
       "                                                 ('categoric',\n",
       "                                                  Pipeline(steps=[('imputer',\n",
       "                                                                   SimpleImputer(strategy='most_frequent')),\n",
       "                                                                  ('encoder',\n",
       "                                                                   OneHotEncoder())]),\n",
       "                                                  ['basements', 'central_air',\n",
       "                                                   'exterior_condition',\n",
       "                                                   'garage_type',\n",
       "                                                   'interior_condition',\n",
       "                                                   'parcel_shape',\n",
       "                                                   'street_designation',\n",
       "                                                   'topography', 'type_heater',\n",
       "                                                   'view_type',\n",
       "                                                   'building_description'])])),\n",
       "                ('algo', ElasticNet())])"
      ]
     },
     "execution_count": 22,
     "metadata": {},
     "output_type": "execute_result"
    }
   ],
   "source": [
    "pipeElasticNet.fit(X_train, y_train)"
   ]
  },
  {
   "cell_type": "code",
   "execution_count": 23,
   "metadata": {},
   "outputs": [],
   "source": [
    "y_ElasticNet_test = pipeElasticNet.predict(X_test)"
   ]
  },
  {
   "cell_type": "code",
   "execution_count": 24,
   "metadata": {},
   "outputs": [
    {
     "data": {
      "text/html": [
       "<div>\n",
       "<style scoped>\n",
       "    .dataframe tbody tr th:only-of-type {\n",
       "        vertical-align: middle;\n",
       "    }\n",
       "\n",
       "    .dataframe tbody tr th {\n",
       "        vertical-align: top;\n",
       "    }\n",
       "\n",
       "    .dataframe thead th {\n",
       "        text-align: right;\n",
       "    }\n",
       "</style>\n",
       "<table border=\"1\" class=\"dataframe\">\n",
       "  <thead>\n",
       "    <tr style=\"text-align: right;\">\n",
       "      <th></th>\n",
       "      <th>Training Pipeline ElasticNet</th>\n",
       "      <th>Test Pipeline ElasticNet</th>\n",
       "    </tr>\n",
       "  </thead>\n",
       "  <tbody>\n",
       "    <tr>\n",
       "      <th>R2</th>\n",
       "      <td>7.014703e-01</td>\n",
       "      <td>7.073878e-01</td>\n",
       "    </tr>\n",
       "    <tr>\n",
       "      <th>MAE</th>\n",
       "      <td>4.487003e+04</td>\n",
       "      <td>4.640047e+04</td>\n",
       "    </tr>\n",
       "    <tr>\n",
       "      <th>MSE</th>\n",
       "      <td>5.430379e+09</td>\n",
       "      <td>6.089734e+09</td>\n",
       "    </tr>\n",
       "    <tr>\n",
       "      <th>RMSE</th>\n",
       "      <td>7.369110e+04</td>\n",
       "      <td>7.803675e+04</td>\n",
       "    </tr>\n",
       "  </tbody>\n",
       "</table>\n",
       "</div>"
      ],
      "text/plain": [
       "      Training Pipeline ElasticNet  Test Pipeline ElasticNet\n",
       "R2                    7.014703e-01              7.073878e-01\n",
       "MAE                   4.487003e+04              4.640047e+04\n",
       "MSE                   5.430379e+09              6.089734e+09\n",
       "RMSE                  7.369110e+04              7.803675e+04"
      ]
     },
     "execution_count": 24,
     "metadata": {},
     "output_type": "execute_result"
    }
   ],
   "source": [
    "df_ElasticNet = Eva_Matrix(pipeElasticNet, X_train, y_train, X_test, y_test, \"Pipeline ElasticNet\")\n",
    "df_ElasticNet"
   ]
  },
  {
   "cell_type": "markdown",
   "metadata": {},
   "source": [
    "# Base Model SVM"
   ]
  },
  {
   "cell_type": "code",
   "execution_count": 25,
   "metadata": {},
   "outputs": [
    {
     "data": {
      "text/plain": [
       "Pipeline(steps=[('prep',\n",
       "                 ColumnTransformer(transformers=[('numeric',\n",
       "                                                  Pipeline(steps=[('imputer',\n",
       "                                                                   SimpleImputer())]),\n",
       "                                                  ['fireplaces',\n",
       "                                                   'number_of_rooms',\n",
       "                                                   'number_stories',\n",
       "                                                   'total_area',\n",
       "                                                   'total_livable_area']),\n",
       "                                                 ('categoric',\n",
       "                                                  Pipeline(steps=[('imputer',\n",
       "                                                                   SimpleImputer(strategy='most_frequent')),\n",
       "                                                                  ('encoder',\n",
       "                                                                   OneHotEncoder())]),\n",
       "                                                  ['basements', 'central_air',\n",
       "                                                   'exterior_condition',\n",
       "                                                   'garage_type',\n",
       "                                                   'interior_condition',\n",
       "                                                   'parcel_shape',\n",
       "                                                   'street_designation',\n",
       "                                                   'topography', 'type_heater',\n",
       "                                                   'view_type',\n",
       "                                                   'building_description'])])),\n",
       "                ('algo', SVR(max_iter=400))])"
      ]
     },
     "execution_count": 25,
     "metadata": {},
     "output_type": "execute_result"
    }
   ],
   "source": [
    "pipeSVM.fit(X_train, y_train)"
   ]
  },
  {
   "cell_type": "code",
   "execution_count": 26,
   "metadata": {},
   "outputs": [],
   "source": [
    "y_SVM_test = pipeSVM.predict(X_test)"
   ]
  },
  {
   "cell_type": "code",
   "execution_count": 27,
   "metadata": {},
   "outputs": [
    {
     "data": {
      "text/html": [
       "<div>\n",
       "<style scoped>\n",
       "    .dataframe tbody tr th:only-of-type {\n",
       "        vertical-align: middle;\n",
       "    }\n",
       "\n",
       "    .dataframe tbody tr th {\n",
       "        vertical-align: top;\n",
       "    }\n",
       "\n",
       "    .dataframe thead th {\n",
       "        text-align: right;\n",
       "    }\n",
       "</style>\n",
       "<table border=\"1\" class=\"dataframe\">\n",
       "  <thead>\n",
       "    <tr style=\"text-align: right;\">\n",
       "      <th></th>\n",
       "      <th>Training Pipeline SVM</th>\n",
       "      <th>Test Pipeline SVM</th>\n",
       "    </tr>\n",
       "  </thead>\n",
       "  <tbody>\n",
       "    <tr>\n",
       "      <th>R2</th>\n",
       "      <td>-2.141573e+00</td>\n",
       "      <td>-1.832491e+00</td>\n",
       "    </tr>\n",
       "    <tr>\n",
       "      <th>MAE</th>\n",
       "      <td>2.201628e+05</td>\n",
       "      <td>2.216299e+05</td>\n",
       "    </tr>\n",
       "    <tr>\n",
       "      <th>MSE</th>\n",
       "      <td>5.714651e+10</td>\n",
       "      <td>5.894872e+10</td>\n",
       "    </tr>\n",
       "    <tr>\n",
       "      <th>RMSE</th>\n",
       "      <td>2.390534e+05</td>\n",
       "      <td>2.427936e+05</td>\n",
       "    </tr>\n",
       "  </tbody>\n",
       "</table>\n",
       "</div>"
      ],
      "text/plain": [
       "      Training Pipeline SVM  Test Pipeline SVM\n",
       "R2            -2.141573e+00      -1.832491e+00\n",
       "MAE            2.201628e+05       2.216299e+05\n",
       "MSE            5.714651e+10       5.894872e+10\n",
       "RMSE           2.390534e+05       2.427936e+05"
      ]
     },
     "execution_count": 27,
     "metadata": {},
     "output_type": "execute_result"
    }
   ],
   "source": [
    "df_SVM = Eva_Matrix(pipeSVM, X_train, y_train, X_test, y_test, \"Pipeline SVM\")\n",
    "df_SVM"
   ]
  },
  {
   "cell_type": "markdown",
   "metadata": {},
   "source": [
    "# Base Model DecisionTreeRegressor"
   ]
  },
  {
   "cell_type": "code",
   "execution_count": 32,
   "metadata": {},
   "outputs": [
    {
     "data": {
      "text/plain": [
       "Pipeline(steps=[('prep',\n",
       "                 ColumnTransformer(transformers=[('numeric',\n",
       "                                                  Pipeline(steps=[('imputer',\n",
       "                                                                   SimpleImputer())]),\n",
       "                                                  ['fireplaces',\n",
       "                                                   'number_of_rooms',\n",
       "                                                   'number_stories',\n",
       "                                                   'total_area',\n",
       "                                                   'total_livable_area']),\n",
       "                                                 ('categoric',\n",
       "                                                  Pipeline(steps=[('imputer',\n",
       "                                                                   SimpleImputer(strategy='most_frequent')),\n",
       "                                                                  ('encoder',\n",
       "                                                                   OneHotEncoder())]),\n",
       "                                                  ['basements', 'central_air',\n",
       "                                                   'exterior_condition',\n",
       "                                                   'garage_type',\n",
       "                                                   'interior_condition',\n",
       "                                                   'parcel_shape',\n",
       "                                                   'street_designation',\n",
       "                                                   'topography', 'type_heater',\n",
       "                                                   'view_type',\n",
       "                                                   'building_description'])])),\n",
       "                ('algo', DecisionTreeRegressor())])"
      ]
     },
     "execution_count": 32,
     "metadata": {},
     "output_type": "execute_result"
    }
   ],
   "source": [
    "pipeDT.fit(X_train, y_train)"
   ]
  },
  {
   "cell_type": "code",
   "execution_count": 33,
   "metadata": {},
   "outputs": [],
   "source": [
    "y_DT_test = pipeDT.predict(X_test)"
   ]
  },
  {
   "cell_type": "code",
   "execution_count": 41,
   "metadata": {},
   "outputs": [
    {
     "data": {
      "text/html": [
       "<div>\n",
       "<style scoped>\n",
       "    .dataframe tbody tr th:only-of-type {\n",
       "        vertical-align: middle;\n",
       "    }\n",
       "\n",
       "    .dataframe tbody tr th {\n",
       "        vertical-align: top;\n",
       "    }\n",
       "\n",
       "    .dataframe thead th {\n",
       "        text-align: right;\n",
       "    }\n",
       "</style>\n",
       "<table border=\"1\" class=\"dataframe\">\n",
       "  <thead>\n",
       "    <tr style=\"text-align: right;\">\n",
       "      <th></th>\n",
       "      <th>Training Pipeline DT</th>\n",
       "      <th>Test Pipeline DT</th>\n",
       "    </tr>\n",
       "  </thead>\n",
       "  <tbody>\n",
       "    <tr>\n",
       "      <th>R2</th>\n",
       "      <td>9.997697e-01</td>\n",
       "      <td>6.868985e-01</td>\n",
       "    </tr>\n",
       "    <tr>\n",
       "      <th>MAE</th>\n",
       "      <td>2.627620e+02</td>\n",
       "      <td>3.111364e+04</td>\n",
       "    </tr>\n",
       "    <tr>\n",
       "      <th>MSE</th>\n",
       "      <td>4.190052e+06</td>\n",
       "      <td>6.516150e+09</td>\n",
       "    </tr>\n",
       "    <tr>\n",
       "      <th>RMSE</th>\n",
       "      <td>2.046962e+03</td>\n",
       "      <td>8.072267e+04</td>\n",
       "    </tr>\n",
       "  </tbody>\n",
       "</table>\n",
       "</div>"
      ],
      "text/plain": [
       "      Training Pipeline DT  Test Pipeline DT\n",
       "R2            9.997697e-01      6.868985e-01\n",
       "MAE           2.627620e+02      3.111364e+04\n",
       "MSE           4.190052e+06      6.516150e+09\n",
       "RMSE          2.046962e+03      8.072267e+04"
      ]
     },
     "execution_count": 41,
     "metadata": {},
     "output_type": "execute_result"
    }
   ],
   "source": [
    "df_DT = Eva_Matrix(pipeDT, X_train, y_train, X_test, y_test, \"Pipeline DT\")\n",
    "df_DT"
   ]
  },
  {
   "cell_type": "markdown",
   "metadata": {},
   "source": [
    "# Base Model RandomForestRegressor"
   ]
  },
  {
   "cell_type": "code",
   "execution_count": 35,
   "metadata": {},
   "outputs": [
    {
     "data": {
      "text/plain": [
       "Pipeline(steps=[('prep',\n",
       "                 ColumnTransformer(transformers=[('numeric',\n",
       "                                                  Pipeline(steps=[('imputer',\n",
       "                                                                   SimpleImputer())]),\n",
       "                                                  ['fireplaces',\n",
       "                                                   'number_of_rooms',\n",
       "                                                   'number_stories',\n",
       "                                                   'total_area',\n",
       "                                                   'total_livable_area']),\n",
       "                                                 ('categoric',\n",
       "                                                  Pipeline(steps=[('imputer',\n",
       "                                                                   SimpleImputer(strategy='most_frequent')),\n",
       "                                                                  ('encoder',\n",
       "                                                                   OneHotEncoder())]),\n",
       "                                                  ['basements', 'central_air',\n",
       "                                                   'exterior_condition',\n",
       "                                                   'garage_type',\n",
       "                                                   'interior_condition',\n",
       "                                                   'parcel_shape',\n",
       "                                                   'street_designation',\n",
       "                                                   'topography', 'type_heater',\n",
       "                                                   'view_type',\n",
       "                                                   'building_description'])])),\n",
       "                ('algo', RandomForestRegressor())])"
      ]
     },
     "execution_count": 35,
     "metadata": {},
     "output_type": "execute_result"
    }
   ],
   "source": [
    "pipeRF.fit(X_train, y_train)"
   ]
  },
  {
   "cell_type": "code",
   "execution_count": 36,
   "metadata": {},
   "outputs": [],
   "source": [
    "y_RF_test = pipeRF.predict(X_test)"
   ]
  },
  {
   "cell_type": "code",
   "execution_count": 42,
   "metadata": {},
   "outputs": [
    {
     "data": {
      "text/html": [
       "<div>\n",
       "<style scoped>\n",
       "    .dataframe tbody tr th:only-of-type {\n",
       "        vertical-align: middle;\n",
       "    }\n",
       "\n",
       "    .dataframe tbody tr th {\n",
       "        vertical-align: top;\n",
       "    }\n",
       "\n",
       "    .dataframe thead th {\n",
       "        text-align: right;\n",
       "    }\n",
       "</style>\n",
       "<table border=\"1\" class=\"dataframe\">\n",
       "  <thead>\n",
       "    <tr style=\"text-align: right;\">\n",
       "      <th></th>\n",
       "      <th>Training Pipeline RF</th>\n",
       "      <th>Test Pipeline RF</th>\n",
       "    </tr>\n",
       "  </thead>\n",
       "  <tbody>\n",
       "    <tr>\n",
       "      <th>R2</th>\n",
       "      <td>9.773417e-01</td>\n",
       "      <td>8.406967e-01</td>\n",
       "    </tr>\n",
       "    <tr>\n",
       "      <th>MAE</th>\n",
       "      <td>8.468079e+03</td>\n",
       "      <td>2.384308e+04</td>\n",
       "    </tr>\n",
       "    <tr>\n",
       "      <th>MSE</th>\n",
       "      <td>4.121646e+08</td>\n",
       "      <td>3.315360e+09</td>\n",
       "    </tr>\n",
       "    <tr>\n",
       "      <th>RMSE</th>\n",
       "      <td>2.030184e+04</td>\n",
       "      <td>5.757917e+04</td>\n",
       "    </tr>\n",
       "  </tbody>\n",
       "</table>\n",
       "</div>"
      ],
      "text/plain": [
       "      Training Pipeline RF  Test Pipeline RF\n",
       "R2            9.773417e-01      8.406967e-01\n",
       "MAE           8.468079e+03      2.384308e+04\n",
       "MSE           4.121646e+08      3.315360e+09\n",
       "RMSE          2.030184e+04      5.757917e+04"
      ]
     },
     "execution_count": 42,
     "metadata": {},
     "output_type": "execute_result"
    }
   ],
   "source": [
    "df_RF = Eva_Matrix(pipeRF, X_train, y_train, X_test, y_test, \"Pipeline RF\")\n",
    "df_RF"
   ]
  },
  {
   "cell_type": "markdown",
   "metadata": {},
   "source": [
    "# Fine Tuning"
   ]
  },
  {
   "cell_type": "markdown",
   "metadata": {},
   "source": [
    "## DecisionTreeRegressor"
   ]
  },
  {
   "cell_type": "code",
   "execution_count": 319,
   "metadata": {},
   "outputs": [],
   "source": [
    "pipeDT_Tuning = Pipeline([\n",
    "    (\"prep\", preprocessor),\n",
    "    (\"algo\", DecisionTreeRegressor(max_depth = None, max_features = 0.9, min_samples_leaf = 25, min_samples_split = 24, random_state=42))\n",
    "])"
   ]
  },
  {
   "cell_type": "code",
   "execution_count": 320,
   "metadata": {},
   "outputs": [
    {
     "data": {
      "text/plain": [
       "Pipeline(steps=[('prep',\n",
       "                 ColumnTransformer(transformers=[('numeric',\n",
       "                                                  Pipeline(steps=[('imputer',\n",
       "                                                                   SimpleImputer()),\n",
       "                                                                  ('scaler',\n",
       "                                                                   RobustScaler())]),\n",
       "                                                  ['fireplaces',\n",
       "                                                   'number_of_rooms',\n",
       "                                                   'number_stories',\n",
       "                                                   'total_area',\n",
       "                                                   'total_livable_area']),\n",
       "                                                 ('categoric',\n",
       "                                                  Pipeline(steps=[('imputer',\n",
       "                                                                   SimpleImputer(strategy='most_frequent')),\n",
       "                                                                  ('encoder',\n",
       "                                                                   OneHotEncoder())]),\n",
       "                                                  ['basements', 'central_air',\n",
       "                                                   'exterior_condition',\n",
       "                                                   'garage_type',\n",
       "                                                   'interior_condition',\n",
       "                                                   'parcel_shape',\n",
       "                                                   'street_designation',\n",
       "                                                   'topography', 'type_heater',\n",
       "                                                   'view_type',\n",
       "                                                   'building_description'])])),\n",
       "                ('algo',\n",
       "                 DecisionTreeRegressor(max_features=0.9, min_samples_leaf=25,\n",
       "                                       min_samples_split=24,\n",
       "                                       random_state=42))])"
      ]
     },
     "execution_count": 320,
     "metadata": {},
     "output_type": "execute_result"
    }
   ],
   "source": [
    "pipeDT_Tuning.fit(X_train, y_train)"
   ]
  },
  {
   "cell_type": "code",
   "execution_count": 321,
   "metadata": {},
   "outputs": [],
   "source": [
    "y_DT_Fine_Tuned_test = pipeDT_Tuning.predict(X_test)"
   ]
  },
  {
   "cell_type": "code",
   "execution_count": 322,
   "metadata": {},
   "outputs": [
    {
     "data": {
      "text/html": [
       "<div>\n",
       "<style scoped>\n",
       "    .dataframe tbody tr th:only-of-type {\n",
       "        vertical-align: middle;\n",
       "    }\n",
       "\n",
       "    .dataframe tbody tr th {\n",
       "        vertical-align: top;\n",
       "    }\n",
       "\n",
       "    .dataframe thead th {\n",
       "        text-align: right;\n",
       "    }\n",
       "</style>\n",
       "<table border=\"1\" class=\"dataframe\">\n",
       "  <thead>\n",
       "    <tr style=\"text-align: right;\">\n",
       "      <th></th>\n",
       "      <th>Training Pipeline DT Tuned</th>\n",
       "      <th>Test Pipeline DT Tuned</th>\n",
       "    </tr>\n",
       "  </thead>\n",
       "  <tbody>\n",
       "    <tr>\n",
       "      <th>R2</th>\n",
       "      <td>8.071473e-01</td>\n",
       "      <td>7.769997e-01</td>\n",
       "    </tr>\n",
       "    <tr>\n",
       "      <th>MAE</th>\n",
       "      <td>2.931071e+04</td>\n",
       "      <td>3.345081e+04</td>\n",
       "    </tr>\n",
       "    <tr>\n",
       "      <th>MSE</th>\n",
       "      <td>3.508071e+09</td>\n",
       "      <td>4.640997e+09</td>\n",
       "    </tr>\n",
       "    <tr>\n",
       "      <th>RMSE</th>\n",
       "      <td>5.922897e+04</td>\n",
       "      <td>6.812486e+04</td>\n",
       "    </tr>\n",
       "  </tbody>\n",
       "</table>\n",
       "</div>"
      ],
      "text/plain": [
       "      Training Pipeline DT Tuned  Test Pipeline DT Tuned\n",
       "R2                  8.071473e-01            7.769997e-01\n",
       "MAE                 2.931071e+04            3.345081e+04\n",
       "MSE                 3.508071e+09            4.640997e+09\n",
       "RMSE                5.922897e+04            6.812486e+04"
      ]
     },
     "execution_count": 322,
     "metadata": {},
     "output_type": "execute_result"
    }
   ],
   "source": [
    "df_DT_Fine_Tuned = Eva_Matrix(pipeDT_Tuning, X_train, y_train, X_test, y_test, \"Pipeline DT Tuned\")\n",
    "df_DT_Fine_Tuned"
   ]
  },
  {
   "cell_type": "code",
   "execution_count": null,
   "metadata": {},
   "outputs": [],
   "source": [
    "bikin residual plot -> untuk yg test, kalo mau buat yg train juga boleh"
   ]
  },
  {
   "cell_type": "code",
   "execution_count": null,
   "metadata": {},
   "outputs": [],
   "source": [
    "error = abs(y_DT_Fine_Tuned_test - ytest)"
   ]
  },
  {
   "cell_type": "code",
   "execution_count": null,
   "metadata": {},
   "outputs": [],
   "source": [
    "dftest = pd.concat(x_test,y_test)"
   ]
  },
  {
   "cell_type": "code",
   "execution_count": null,
   "metadata": {},
   "outputs": [],
   "source": [
    "dftest['error'] = error"
   ]
  },
  {
   "cell_type": "code",
   "execution_count": null,
   "metadata": {},
   "outputs": [],
   "source": [
    "bikin histogram dari dftest error"
   ]
  },
  {
   "cell_type": "code",
   "execution_count": null,
   "metadata": {},
   "outputs": [],
   "source": [
    "scatter plot antara dftest error & dftest y_test"
   ]
  },
  {
   "cell_type": "code",
   "execution_count": null,
   "metadata": {},
   "outputs": [],
   "source": [
    "nanti keliatan bentuknya gimana"
   ]
  }
 ],
 "metadata": {
  "kernelspec": {
   "display_name": "Python 3",
   "language": "python",
   "name": "python3"
  },
  "language_info": {
   "codemirror_mode": {
    "name": "ipython",
    "version": 3
   },
   "file_extension": ".py",
   "mimetype": "text/x-python",
   "name": "python",
   "nbconvert_exporter": "python",
   "pygments_lexer": "ipython3",
   "version": "3.8.5"
  }
 },
 "nbformat": 4,
 "nbformat_minor": 4
}
